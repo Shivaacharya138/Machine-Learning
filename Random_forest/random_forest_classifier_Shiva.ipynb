{
  "nbformat": 4,
  "nbformat_minor": 0,
  "metadata": {
    "colab": {
      "provenance": []
    },
    "kernelspec": {
      "name": "python3",
      "display_name": "Python 3"
    },
    "language_info": {
      "name": "python"
    }
  },
  "cells": [
    {
      "cell_type": "code",
      "execution_count": 1,
      "metadata": {
        "id": "NR7Ze7RagT5q"
      },
      "outputs": [],
      "source": [
        "import pandas as pd\n",
        "import numpy as np"
      ]
    },
    {
      "cell_type": "code",
      "source": [
        "df = pd.read_csv('Train.csv')\n",
        "df"
      ],
      "metadata": {
        "colab": {
          "base_uri": "https://localhost:8080/",
          "height": 423
        },
        "id": "kUh6YDJkgZFD",
        "outputId": "7cc58413-0bb4-45ad-dca4-151c100e32d0"
      },
      "execution_count": 2,
      "outputs": [
        {
          "output_type": "execute_result",
          "data": {
            "text/plain": [
              "      INCIDENT_ID       DATE  X_1  X_2  X_3  X_4  X_5  X_6  X_7  X_8  X_9  \\\n",
              "0       CR_102659  04-JUL-04    0   36   34    2    1    5    6    1    6   \n",
              "1       CR_189752  18-JUL-17    1   37   37    0    0   11   17    1    6   \n",
              "2       CR_184637  15-MAR-17    0    3    2    3    5    1    0    2    3   \n",
              "3       CR_139071  13-FEB-09    0   33   32    2    1    7    1    1    6   \n",
              "4       CR_109335  13-APR-05    0   33   32    2    1    8    3    0    5   \n",
              "...           ...        ...  ...  ...  ...  ...  ...  ...  ...  ...  ...   \n",
              "23851    CR_88991  11-JAN-02    1   47   48    7    3   15   10    1    5   \n",
              "23852    CR_46369  05-FEB-97    0   33   32    2    1    5    6    0    5   \n",
              "23853   CR_157556  03-APR-12    0   25   25    9    0    3    5    1    6   \n",
              "23854   CR_103180  25-JAN-04    0   39   39    6    5    2    7    1    6   \n",
              "23855    CR_22575  08-NOV-94    7   36   34    2    1    9    8    0    5   \n",
              "\n",
              "       X_10  X_11  X_12  X_13  X_14  X_15  MALICIOUS_OFFENSE  \n",
              "0         1   174   1.0    92    29    36                  0  \n",
              "1         1   236   1.0   103   142    34                  1  \n",
              "2         1   174   1.0   110    93    34                  1  \n",
              "3         1   249   1.0    72    29    34                  1  \n",
              "4         1   174   0.0   112    29    43                  1  \n",
              "...     ...   ...   ...   ...   ...   ...                ...  \n",
              "23851     1   174   0.0    98    29    34                  1  \n",
              "23852     1   174   0.0   112    29    43                  1  \n",
              "23853     1   174   0.0    10    29    18                  1  \n",
              "23854     1   127   0.0   112   103    43                  1  \n",
              "23855     1   249   1.0    92    29    34                  1  \n",
              "\n",
              "[23856 rows x 18 columns]"
            ],
            "text/html": [
              "\n",
              "  <div id=\"df-437a1799-e2ca-4fe9-891d-8cafd985fcc2\">\n",
              "    <div class=\"colab-df-container\">\n",
              "      <div>\n",
              "<style scoped>\n",
              "    .dataframe tbody tr th:only-of-type {\n",
              "        vertical-align: middle;\n",
              "    }\n",
              "\n",
              "    .dataframe tbody tr th {\n",
              "        vertical-align: top;\n",
              "    }\n",
              "\n",
              "    .dataframe thead th {\n",
              "        text-align: right;\n",
              "    }\n",
              "</style>\n",
              "<table border=\"1\" class=\"dataframe\">\n",
              "  <thead>\n",
              "    <tr style=\"text-align: right;\">\n",
              "      <th></th>\n",
              "      <th>INCIDENT_ID</th>\n",
              "      <th>DATE</th>\n",
              "      <th>X_1</th>\n",
              "      <th>X_2</th>\n",
              "      <th>X_3</th>\n",
              "      <th>X_4</th>\n",
              "      <th>X_5</th>\n",
              "      <th>X_6</th>\n",
              "      <th>X_7</th>\n",
              "      <th>X_8</th>\n",
              "      <th>X_9</th>\n",
              "      <th>X_10</th>\n",
              "      <th>X_11</th>\n",
              "      <th>X_12</th>\n",
              "      <th>X_13</th>\n",
              "      <th>X_14</th>\n",
              "      <th>X_15</th>\n",
              "      <th>MALICIOUS_OFFENSE</th>\n",
              "    </tr>\n",
              "  </thead>\n",
              "  <tbody>\n",
              "    <tr>\n",
              "      <th>0</th>\n",
              "      <td>CR_102659</td>\n",
              "      <td>04-JUL-04</td>\n",
              "      <td>0</td>\n",
              "      <td>36</td>\n",
              "      <td>34</td>\n",
              "      <td>2</td>\n",
              "      <td>1</td>\n",
              "      <td>5</td>\n",
              "      <td>6</td>\n",
              "      <td>1</td>\n",
              "      <td>6</td>\n",
              "      <td>1</td>\n",
              "      <td>174</td>\n",
              "      <td>1.0</td>\n",
              "      <td>92</td>\n",
              "      <td>29</td>\n",
              "      <td>36</td>\n",
              "      <td>0</td>\n",
              "    </tr>\n",
              "    <tr>\n",
              "      <th>1</th>\n",
              "      <td>CR_189752</td>\n",
              "      <td>18-JUL-17</td>\n",
              "      <td>1</td>\n",
              "      <td>37</td>\n",
              "      <td>37</td>\n",
              "      <td>0</td>\n",
              "      <td>0</td>\n",
              "      <td>11</td>\n",
              "      <td>17</td>\n",
              "      <td>1</td>\n",
              "      <td>6</td>\n",
              "      <td>1</td>\n",
              "      <td>236</td>\n",
              "      <td>1.0</td>\n",
              "      <td>103</td>\n",
              "      <td>142</td>\n",
              "      <td>34</td>\n",
              "      <td>1</td>\n",
              "    </tr>\n",
              "    <tr>\n",
              "      <th>2</th>\n",
              "      <td>CR_184637</td>\n",
              "      <td>15-MAR-17</td>\n",
              "      <td>0</td>\n",
              "      <td>3</td>\n",
              "      <td>2</td>\n",
              "      <td>3</td>\n",
              "      <td>5</td>\n",
              "      <td>1</td>\n",
              "      <td>0</td>\n",
              "      <td>2</td>\n",
              "      <td>3</td>\n",
              "      <td>1</td>\n",
              "      <td>174</td>\n",
              "      <td>1.0</td>\n",
              "      <td>110</td>\n",
              "      <td>93</td>\n",
              "      <td>34</td>\n",
              "      <td>1</td>\n",
              "    </tr>\n",
              "    <tr>\n",
              "      <th>3</th>\n",
              "      <td>CR_139071</td>\n",
              "      <td>13-FEB-09</td>\n",
              "      <td>0</td>\n",
              "      <td>33</td>\n",
              "      <td>32</td>\n",
              "      <td>2</td>\n",
              "      <td>1</td>\n",
              "      <td>7</td>\n",
              "      <td>1</td>\n",
              "      <td>1</td>\n",
              "      <td>6</td>\n",
              "      <td>1</td>\n",
              "      <td>249</td>\n",
              "      <td>1.0</td>\n",
              "      <td>72</td>\n",
              "      <td>29</td>\n",
              "      <td>34</td>\n",
              "      <td>1</td>\n",
              "    </tr>\n",
              "    <tr>\n",
              "      <th>4</th>\n",
              "      <td>CR_109335</td>\n",
              "      <td>13-APR-05</td>\n",
              "      <td>0</td>\n",
              "      <td>33</td>\n",
              "      <td>32</td>\n",
              "      <td>2</td>\n",
              "      <td>1</td>\n",
              "      <td>8</td>\n",
              "      <td>3</td>\n",
              "      <td>0</td>\n",
              "      <td>5</td>\n",
              "      <td>1</td>\n",
              "      <td>174</td>\n",
              "      <td>0.0</td>\n",
              "      <td>112</td>\n",
              "      <td>29</td>\n",
              "      <td>43</td>\n",
              "      <td>1</td>\n",
              "    </tr>\n",
              "    <tr>\n",
              "      <th>...</th>\n",
              "      <td>...</td>\n",
              "      <td>...</td>\n",
              "      <td>...</td>\n",
              "      <td>...</td>\n",
              "      <td>...</td>\n",
              "      <td>...</td>\n",
              "      <td>...</td>\n",
              "      <td>...</td>\n",
              "      <td>...</td>\n",
              "      <td>...</td>\n",
              "      <td>...</td>\n",
              "      <td>...</td>\n",
              "      <td>...</td>\n",
              "      <td>...</td>\n",
              "      <td>...</td>\n",
              "      <td>...</td>\n",
              "      <td>...</td>\n",
              "      <td>...</td>\n",
              "    </tr>\n",
              "    <tr>\n",
              "      <th>23851</th>\n",
              "      <td>CR_88991</td>\n",
              "      <td>11-JAN-02</td>\n",
              "      <td>1</td>\n",
              "      <td>47</td>\n",
              "      <td>48</td>\n",
              "      <td>7</td>\n",
              "      <td>3</td>\n",
              "      <td>15</td>\n",
              "      <td>10</td>\n",
              "      <td>1</td>\n",
              "      <td>5</td>\n",
              "      <td>1</td>\n",
              "      <td>174</td>\n",
              "      <td>0.0</td>\n",
              "      <td>98</td>\n",
              "      <td>29</td>\n",
              "      <td>34</td>\n",
              "      <td>1</td>\n",
              "    </tr>\n",
              "    <tr>\n",
              "      <th>23852</th>\n",
              "      <td>CR_46369</td>\n",
              "      <td>05-FEB-97</td>\n",
              "      <td>0</td>\n",
              "      <td>33</td>\n",
              "      <td>32</td>\n",
              "      <td>2</td>\n",
              "      <td>1</td>\n",
              "      <td>5</td>\n",
              "      <td>6</td>\n",
              "      <td>0</td>\n",
              "      <td>5</td>\n",
              "      <td>1</td>\n",
              "      <td>174</td>\n",
              "      <td>0.0</td>\n",
              "      <td>112</td>\n",
              "      <td>29</td>\n",
              "      <td>43</td>\n",
              "      <td>1</td>\n",
              "    </tr>\n",
              "    <tr>\n",
              "      <th>23853</th>\n",
              "      <td>CR_157556</td>\n",
              "      <td>03-APR-12</td>\n",
              "      <td>0</td>\n",
              "      <td>25</td>\n",
              "      <td>25</td>\n",
              "      <td>9</td>\n",
              "      <td>0</td>\n",
              "      <td>3</td>\n",
              "      <td>5</td>\n",
              "      <td>1</td>\n",
              "      <td>6</td>\n",
              "      <td>1</td>\n",
              "      <td>174</td>\n",
              "      <td>0.0</td>\n",
              "      <td>10</td>\n",
              "      <td>29</td>\n",
              "      <td>18</td>\n",
              "      <td>1</td>\n",
              "    </tr>\n",
              "    <tr>\n",
              "      <th>23854</th>\n",
              "      <td>CR_103180</td>\n",
              "      <td>25-JAN-04</td>\n",
              "      <td>0</td>\n",
              "      <td>39</td>\n",
              "      <td>39</td>\n",
              "      <td>6</td>\n",
              "      <td>5</td>\n",
              "      <td>2</td>\n",
              "      <td>7</td>\n",
              "      <td>1</td>\n",
              "      <td>6</td>\n",
              "      <td>1</td>\n",
              "      <td>127</td>\n",
              "      <td>0.0</td>\n",
              "      <td>112</td>\n",
              "      <td>103</td>\n",
              "      <td>43</td>\n",
              "      <td>1</td>\n",
              "    </tr>\n",
              "    <tr>\n",
              "      <th>23855</th>\n",
              "      <td>CR_22575</td>\n",
              "      <td>08-NOV-94</td>\n",
              "      <td>7</td>\n",
              "      <td>36</td>\n",
              "      <td>34</td>\n",
              "      <td>2</td>\n",
              "      <td>1</td>\n",
              "      <td>9</td>\n",
              "      <td>8</td>\n",
              "      <td>0</td>\n",
              "      <td>5</td>\n",
              "      <td>1</td>\n",
              "      <td>249</td>\n",
              "      <td>1.0</td>\n",
              "      <td>92</td>\n",
              "      <td>29</td>\n",
              "      <td>34</td>\n",
              "      <td>1</td>\n",
              "    </tr>\n",
              "  </tbody>\n",
              "</table>\n",
              "<p>23856 rows × 18 columns</p>\n",
              "</div>\n",
              "      <button class=\"colab-df-convert\" onclick=\"convertToInteractive('df-437a1799-e2ca-4fe9-891d-8cafd985fcc2')\"\n",
              "              title=\"Convert this dataframe to an interactive table.\"\n",
              "              style=\"display:none;\">\n",
              "        \n",
              "  <svg xmlns=\"http://www.w3.org/2000/svg\" height=\"24px\"viewBox=\"0 0 24 24\"\n",
              "       width=\"24px\">\n",
              "    <path d=\"M0 0h24v24H0V0z\" fill=\"none\"/>\n",
              "    <path d=\"M18.56 5.44l.94 2.06.94-2.06 2.06-.94-2.06-.94-.94-2.06-.94 2.06-2.06.94zm-11 1L8.5 8.5l.94-2.06 2.06-.94-2.06-.94L8.5 2.5l-.94 2.06-2.06.94zm10 10l.94 2.06.94-2.06 2.06-.94-2.06-.94-.94-2.06-.94 2.06-2.06.94z\"/><path d=\"M17.41 7.96l-1.37-1.37c-.4-.4-.92-.59-1.43-.59-.52 0-1.04.2-1.43.59L10.3 9.45l-7.72 7.72c-.78.78-.78 2.05 0 2.83L4 21.41c.39.39.9.59 1.41.59.51 0 1.02-.2 1.41-.59l7.78-7.78 2.81-2.81c.8-.78.8-2.07 0-2.86zM5.41 20L4 18.59l7.72-7.72 1.47 1.35L5.41 20z\"/>\n",
              "  </svg>\n",
              "      </button>\n",
              "      \n",
              "  <style>\n",
              "    .colab-df-container {\n",
              "      display:flex;\n",
              "      flex-wrap:wrap;\n",
              "      gap: 12px;\n",
              "    }\n",
              "\n",
              "    .colab-df-convert {\n",
              "      background-color: #E8F0FE;\n",
              "      border: none;\n",
              "      border-radius: 50%;\n",
              "      cursor: pointer;\n",
              "      display: none;\n",
              "      fill: #1967D2;\n",
              "      height: 32px;\n",
              "      padding: 0 0 0 0;\n",
              "      width: 32px;\n",
              "    }\n",
              "\n",
              "    .colab-df-convert:hover {\n",
              "      background-color: #E2EBFA;\n",
              "      box-shadow: 0px 1px 2px rgba(60, 64, 67, 0.3), 0px 1px 3px 1px rgba(60, 64, 67, 0.15);\n",
              "      fill: #174EA6;\n",
              "    }\n",
              "\n",
              "    [theme=dark] .colab-df-convert {\n",
              "      background-color: #3B4455;\n",
              "      fill: #D2E3FC;\n",
              "    }\n",
              "\n",
              "    [theme=dark] .colab-df-convert:hover {\n",
              "      background-color: #434B5C;\n",
              "      box-shadow: 0px 1px 3px 1px rgba(0, 0, 0, 0.15);\n",
              "      filter: drop-shadow(0px 1px 2px rgba(0, 0, 0, 0.3));\n",
              "      fill: #FFFFFF;\n",
              "    }\n",
              "  </style>\n",
              "\n",
              "      <script>\n",
              "        const buttonEl =\n",
              "          document.querySelector('#df-437a1799-e2ca-4fe9-891d-8cafd985fcc2 button.colab-df-convert');\n",
              "        buttonEl.style.display =\n",
              "          google.colab.kernel.accessAllowed ? 'block' : 'none';\n",
              "\n",
              "        async function convertToInteractive(key) {\n",
              "          const element = document.querySelector('#df-437a1799-e2ca-4fe9-891d-8cafd985fcc2');\n",
              "          const dataTable =\n",
              "            await google.colab.kernel.invokeFunction('convertToInteractive',\n",
              "                                                     [key], {});\n",
              "          if (!dataTable) return;\n",
              "\n",
              "          const docLinkHtml = 'Like what you see? Visit the ' +\n",
              "            '<a target=\"_blank\" href=https://colab.research.google.com/notebooks/data_table.ipynb>data table notebook</a>'\n",
              "            + ' to learn more about interactive tables.';\n",
              "          element.innerHTML = '';\n",
              "          dataTable['output_type'] = 'display_data';\n",
              "          await google.colab.output.renderOutput(dataTable, element);\n",
              "          const docLink = document.createElement('div');\n",
              "          docLink.innerHTML = docLinkHtml;\n",
              "          element.appendChild(docLink);\n",
              "        }\n",
              "      </script>\n",
              "    </div>\n",
              "  </div>\n",
              "  "
            ]
          },
          "metadata": {},
          "execution_count": 2
        }
      ]
    },
    {
      "cell_type": "code",
      "source": [
        "df.info()"
      ],
      "metadata": {
        "colab": {
          "base_uri": "https://localhost:8080/"
        },
        "id": "MGonWspkg0bc",
        "outputId": "68169670-290c-4c91-8003-459c73a61879"
      },
      "execution_count": 3,
      "outputs": [
        {
          "output_type": "stream",
          "name": "stdout",
          "text": [
            "<class 'pandas.core.frame.DataFrame'>\n",
            "RangeIndex: 23856 entries, 0 to 23855\n",
            "Data columns (total 18 columns):\n",
            " #   Column             Non-Null Count  Dtype  \n",
            "---  ------             --------------  -----  \n",
            " 0   INCIDENT_ID        23856 non-null  object \n",
            " 1   DATE               23856 non-null  object \n",
            " 2   X_1                23856 non-null  int64  \n",
            " 3   X_2                23856 non-null  int64  \n",
            " 4   X_3                23856 non-null  int64  \n",
            " 5   X_4                23856 non-null  int64  \n",
            " 6   X_5                23856 non-null  int64  \n",
            " 7   X_6                23856 non-null  int64  \n",
            " 8   X_7                23856 non-null  int64  \n",
            " 9   X_8                23856 non-null  int64  \n",
            " 10  X_9                23856 non-null  int64  \n",
            " 11  X_10               23856 non-null  int64  \n",
            " 12  X_11               23856 non-null  int64  \n",
            " 13  X_12               23674 non-null  float64\n",
            " 14  X_13               23856 non-null  int64  \n",
            " 15  X_14               23856 non-null  int64  \n",
            " 16  X_15               23856 non-null  int64  \n",
            " 17  MALICIOUS_OFFENSE  23856 non-null  int64  \n",
            "dtypes: float64(1), int64(15), object(2)\n",
            "memory usage: 3.3+ MB\n"
          ]
        }
      ]
    },
    {
      "cell_type": "code",
      "source": [
        "df.isnull().sum()"
      ],
      "metadata": {
        "colab": {
          "base_uri": "https://localhost:8080/"
        },
        "id": "8r-99J43g4Hh",
        "outputId": "3b57b424-efac-470f-b270-6cae5d83c391"
      },
      "execution_count": 4,
      "outputs": [
        {
          "output_type": "execute_result",
          "data": {
            "text/plain": [
              "INCIDENT_ID            0\n",
              "DATE                   0\n",
              "X_1                    0\n",
              "X_2                    0\n",
              "X_3                    0\n",
              "X_4                    0\n",
              "X_5                    0\n",
              "X_6                    0\n",
              "X_7                    0\n",
              "X_8                    0\n",
              "X_9                    0\n",
              "X_10                   0\n",
              "X_11                   0\n",
              "X_12                 182\n",
              "X_13                   0\n",
              "X_14                   0\n",
              "X_15                   0\n",
              "MALICIOUS_OFFENSE      0\n",
              "dtype: int64"
            ]
          },
          "metadata": {},
          "execution_count": 4
        }
      ]
    },
    {
      "cell_type": "code",
      "source": [
        "df.dropna(inplace=True)"
      ],
      "metadata": {
        "id": "-uF0fDXlg_ly"
      },
      "execution_count": 5,
      "outputs": []
    },
    {
      "cell_type": "code",
      "source": [
        "df.isnull().sum()"
      ],
      "metadata": {
        "colab": {
          "base_uri": "https://localhost:8080/"
        },
        "id": "IucEWt9OhDH3",
        "outputId": "c04440ef-1da7-414d-a9cc-0c111d408ef0"
      },
      "execution_count": 6,
      "outputs": [
        {
          "output_type": "execute_result",
          "data": {
            "text/plain": [
              "INCIDENT_ID          0\n",
              "DATE                 0\n",
              "X_1                  0\n",
              "X_2                  0\n",
              "X_3                  0\n",
              "X_4                  0\n",
              "X_5                  0\n",
              "X_6                  0\n",
              "X_7                  0\n",
              "X_8                  0\n",
              "X_9                  0\n",
              "X_10                 0\n",
              "X_11                 0\n",
              "X_12                 0\n",
              "X_13                 0\n",
              "X_14                 0\n",
              "X_15                 0\n",
              "MALICIOUS_OFFENSE    0\n",
              "dtype: int64"
            ]
          },
          "metadata": {},
          "execution_count": 6
        }
      ]
    },
    {
      "cell_type": "code",
      "source": [
        "df.duplicated().sum()"
      ],
      "metadata": {
        "colab": {
          "base_uri": "https://localhost:8080/"
        },
        "id": "qdFLeUczhGic",
        "outputId": "16a64f42-bfd0-44db-ba2b-3066c0638fd5"
      },
      "execution_count": 8,
      "outputs": [
        {
          "output_type": "execute_result",
          "data": {
            "text/plain": [
              "0"
            ]
          },
          "metadata": {},
          "execution_count": 8
        }
      ]
    },
    {
      "cell_type": "code",
      "source": [
        "df.corr()"
      ],
      "metadata": {
        "colab": {
          "base_uri": "https://localhost:8080/",
          "height": 649
        },
        "id": "y_Z3tKe7hI83",
        "outputId": "df86cd14-b625-4c23-b8e2-2850ff8d8c14"
      },
      "execution_count": 9,
      "outputs": [
        {
          "output_type": "stream",
          "name": "stderr",
          "text": [
            "<ipython-input-9-2f6f6606aa2c>:1: FutureWarning: The default value of numeric_only in DataFrame.corr is deprecated. In a future version, it will default to False. Select only valid columns or specify the value of numeric_only to silence this warning.\n",
            "  df.corr()\n"
          ]
        },
        {
          "output_type": "execute_result",
          "data": {
            "text/plain": [
              "                        X_1       X_2       X_3       X_4       X_5       X_6  \\\n",
              "X_1                1.000000  0.020277  0.021131  0.003951 -0.032891  0.409489   \n",
              "X_2                0.020277  1.000000  0.997000 -0.101087 -0.346065  0.120014   \n",
              "X_3                0.021131  0.997000  1.000000 -0.072347 -0.344543  0.124893   \n",
              "X_4                0.003951 -0.101087 -0.072347  1.000000  0.439541  0.029382   \n",
              "X_5               -0.032891 -0.346065 -0.344543  0.439541  1.000000 -0.063121   \n",
              "X_6                0.409489  0.120014  0.124893  0.029382 -0.063121  1.000000   \n",
              "X_7                0.420806  0.059961  0.074028  0.093019  0.009669  0.694553   \n",
              "X_8               -0.061920 -0.039141 -0.033993  0.075578  0.047605 -0.063987   \n",
              "X_9                0.017744 -0.017633 -0.019795 -0.008830  0.046501  0.079110   \n",
              "X_10               0.004525 -0.016876 -0.014705  0.038080  0.046195  0.020748   \n",
              "X_11              -0.002332  0.037949  0.036773 -0.037797 -0.043591 -0.003138   \n",
              "X_12              -0.034835 -0.067720 -0.064872  0.059135  0.082068 -0.031258   \n",
              "X_13               0.110687  0.044312  0.040956 -0.050458 -0.069543  0.047697   \n",
              "X_14              -0.011948  0.015200  0.013535 -0.029691 -0.003216 -0.012039   \n",
              "X_15              -0.015616  0.009841  0.003054 -0.030594 -0.032319 -0.006678   \n",
              "MALICIOUS_OFFENSE  0.013753 -0.027362 -0.027201 -0.002730 -0.003209 -0.007656   \n",
              "\n",
              "                        X_7       X_8       X_9      X_10      X_11      X_12  \\\n",
              "X_1                0.420806 -0.061920  0.017744  0.004525 -0.002332 -0.034835   \n",
              "X_2                0.059961 -0.039141 -0.017633 -0.016876  0.037949 -0.067720   \n",
              "X_3                0.074028 -0.033993 -0.019795 -0.014705  0.036773 -0.064872   \n",
              "X_4                0.093019  0.075578 -0.008830  0.038080 -0.037797  0.059135   \n",
              "X_5                0.009669  0.047605  0.046501  0.046195 -0.043591  0.082068   \n",
              "X_6                0.694553 -0.063987  0.079110  0.020748 -0.003138 -0.031258   \n",
              "X_7                1.000000 -0.011945  0.011080  0.022823  0.002904 -0.000409   \n",
              "X_8               -0.011945  1.000000 -0.090085  0.221936  0.008704  0.273107   \n",
              "X_9                0.011080 -0.090085  1.000000  0.013379 -0.005708  0.005150   \n",
              "X_10               0.022823  0.221936  0.013379  1.000000 -0.046100  0.877743   \n",
              "X_11               0.002904  0.008704 -0.005708 -0.046100  1.000000  0.027363   \n",
              "X_12              -0.000409  0.273107  0.005150  0.877743  0.027363  1.000000   \n",
              "X_13               0.011969 -0.048911  0.023187  0.002089  0.016962  0.030012   \n",
              "X_14               0.004800  0.004202 -0.298200 -0.016221 -0.009325 -0.042033   \n",
              "X_15              -0.002758  0.017416  0.006656 -0.003481  0.017659  0.044005   \n",
              "MALICIOUS_OFFENSE -0.007800 -0.033078 -0.000728 -0.242375  0.105728 -0.113061   \n",
              "\n",
              "                       X_13      X_14      X_15  MALICIOUS_OFFENSE  \n",
              "X_1                0.110687 -0.011948 -0.015616           0.013753  \n",
              "X_2                0.044312  0.015200  0.009841          -0.027362  \n",
              "X_3                0.040956  0.013535  0.003054          -0.027201  \n",
              "X_4               -0.050458 -0.029691 -0.030594          -0.002730  \n",
              "X_5               -0.069543 -0.003216 -0.032319          -0.003209  \n",
              "X_6                0.047697 -0.012039 -0.006678          -0.007656  \n",
              "X_7                0.011969  0.004800 -0.002758          -0.007800  \n",
              "X_8               -0.048911  0.004202  0.017416          -0.033078  \n",
              "X_9                0.023187 -0.298200  0.006656          -0.000728  \n",
              "X_10               0.002089 -0.016221 -0.003481          -0.242375  \n",
              "X_11               0.016962 -0.009325  0.017659           0.105728  \n",
              "X_12               0.030012 -0.042033  0.044005          -0.113061  \n",
              "X_13               1.000000 -0.062523  0.003303           0.006729  \n",
              "X_14              -0.062523  1.000000  0.010948          -0.015540  \n",
              "X_15               0.003303  0.010948  1.000000           0.045585  \n",
              "MALICIOUS_OFFENSE  0.006729 -0.015540  0.045585           1.000000  "
            ],
            "text/html": [
              "\n",
              "  <div id=\"df-45e306b0-7a17-44f9-8931-79fb19b4ce22\">\n",
              "    <div class=\"colab-df-container\">\n",
              "      <div>\n",
              "<style scoped>\n",
              "    .dataframe tbody tr th:only-of-type {\n",
              "        vertical-align: middle;\n",
              "    }\n",
              "\n",
              "    .dataframe tbody tr th {\n",
              "        vertical-align: top;\n",
              "    }\n",
              "\n",
              "    .dataframe thead th {\n",
              "        text-align: right;\n",
              "    }\n",
              "</style>\n",
              "<table border=\"1\" class=\"dataframe\">\n",
              "  <thead>\n",
              "    <tr style=\"text-align: right;\">\n",
              "      <th></th>\n",
              "      <th>X_1</th>\n",
              "      <th>X_2</th>\n",
              "      <th>X_3</th>\n",
              "      <th>X_4</th>\n",
              "      <th>X_5</th>\n",
              "      <th>X_6</th>\n",
              "      <th>X_7</th>\n",
              "      <th>X_8</th>\n",
              "      <th>X_9</th>\n",
              "      <th>X_10</th>\n",
              "      <th>X_11</th>\n",
              "      <th>X_12</th>\n",
              "      <th>X_13</th>\n",
              "      <th>X_14</th>\n",
              "      <th>X_15</th>\n",
              "      <th>MALICIOUS_OFFENSE</th>\n",
              "    </tr>\n",
              "  </thead>\n",
              "  <tbody>\n",
              "    <tr>\n",
              "      <th>X_1</th>\n",
              "      <td>1.000000</td>\n",
              "      <td>0.020277</td>\n",
              "      <td>0.021131</td>\n",
              "      <td>0.003951</td>\n",
              "      <td>-0.032891</td>\n",
              "      <td>0.409489</td>\n",
              "      <td>0.420806</td>\n",
              "      <td>-0.061920</td>\n",
              "      <td>0.017744</td>\n",
              "      <td>0.004525</td>\n",
              "      <td>-0.002332</td>\n",
              "      <td>-0.034835</td>\n",
              "      <td>0.110687</td>\n",
              "      <td>-0.011948</td>\n",
              "      <td>-0.015616</td>\n",
              "      <td>0.013753</td>\n",
              "    </tr>\n",
              "    <tr>\n",
              "      <th>X_2</th>\n",
              "      <td>0.020277</td>\n",
              "      <td>1.000000</td>\n",
              "      <td>0.997000</td>\n",
              "      <td>-0.101087</td>\n",
              "      <td>-0.346065</td>\n",
              "      <td>0.120014</td>\n",
              "      <td>0.059961</td>\n",
              "      <td>-0.039141</td>\n",
              "      <td>-0.017633</td>\n",
              "      <td>-0.016876</td>\n",
              "      <td>0.037949</td>\n",
              "      <td>-0.067720</td>\n",
              "      <td>0.044312</td>\n",
              "      <td>0.015200</td>\n",
              "      <td>0.009841</td>\n",
              "      <td>-0.027362</td>\n",
              "    </tr>\n",
              "    <tr>\n",
              "      <th>X_3</th>\n",
              "      <td>0.021131</td>\n",
              "      <td>0.997000</td>\n",
              "      <td>1.000000</td>\n",
              "      <td>-0.072347</td>\n",
              "      <td>-0.344543</td>\n",
              "      <td>0.124893</td>\n",
              "      <td>0.074028</td>\n",
              "      <td>-0.033993</td>\n",
              "      <td>-0.019795</td>\n",
              "      <td>-0.014705</td>\n",
              "      <td>0.036773</td>\n",
              "      <td>-0.064872</td>\n",
              "      <td>0.040956</td>\n",
              "      <td>0.013535</td>\n",
              "      <td>0.003054</td>\n",
              "      <td>-0.027201</td>\n",
              "    </tr>\n",
              "    <tr>\n",
              "      <th>X_4</th>\n",
              "      <td>0.003951</td>\n",
              "      <td>-0.101087</td>\n",
              "      <td>-0.072347</td>\n",
              "      <td>1.000000</td>\n",
              "      <td>0.439541</td>\n",
              "      <td>0.029382</td>\n",
              "      <td>0.093019</td>\n",
              "      <td>0.075578</td>\n",
              "      <td>-0.008830</td>\n",
              "      <td>0.038080</td>\n",
              "      <td>-0.037797</td>\n",
              "      <td>0.059135</td>\n",
              "      <td>-0.050458</td>\n",
              "      <td>-0.029691</td>\n",
              "      <td>-0.030594</td>\n",
              "      <td>-0.002730</td>\n",
              "    </tr>\n",
              "    <tr>\n",
              "      <th>X_5</th>\n",
              "      <td>-0.032891</td>\n",
              "      <td>-0.346065</td>\n",
              "      <td>-0.344543</td>\n",
              "      <td>0.439541</td>\n",
              "      <td>1.000000</td>\n",
              "      <td>-0.063121</td>\n",
              "      <td>0.009669</td>\n",
              "      <td>0.047605</td>\n",
              "      <td>0.046501</td>\n",
              "      <td>0.046195</td>\n",
              "      <td>-0.043591</td>\n",
              "      <td>0.082068</td>\n",
              "      <td>-0.069543</td>\n",
              "      <td>-0.003216</td>\n",
              "      <td>-0.032319</td>\n",
              "      <td>-0.003209</td>\n",
              "    </tr>\n",
              "    <tr>\n",
              "      <th>X_6</th>\n",
              "      <td>0.409489</td>\n",
              "      <td>0.120014</td>\n",
              "      <td>0.124893</td>\n",
              "      <td>0.029382</td>\n",
              "      <td>-0.063121</td>\n",
              "      <td>1.000000</td>\n",
              "      <td>0.694553</td>\n",
              "      <td>-0.063987</td>\n",
              "      <td>0.079110</td>\n",
              "      <td>0.020748</td>\n",
              "      <td>-0.003138</td>\n",
              "      <td>-0.031258</td>\n",
              "      <td>0.047697</td>\n",
              "      <td>-0.012039</td>\n",
              "      <td>-0.006678</td>\n",
              "      <td>-0.007656</td>\n",
              "    </tr>\n",
              "    <tr>\n",
              "      <th>X_7</th>\n",
              "      <td>0.420806</td>\n",
              "      <td>0.059961</td>\n",
              "      <td>0.074028</td>\n",
              "      <td>0.093019</td>\n",
              "      <td>0.009669</td>\n",
              "      <td>0.694553</td>\n",
              "      <td>1.000000</td>\n",
              "      <td>-0.011945</td>\n",
              "      <td>0.011080</td>\n",
              "      <td>0.022823</td>\n",
              "      <td>0.002904</td>\n",
              "      <td>-0.000409</td>\n",
              "      <td>0.011969</td>\n",
              "      <td>0.004800</td>\n",
              "      <td>-0.002758</td>\n",
              "      <td>-0.007800</td>\n",
              "    </tr>\n",
              "    <tr>\n",
              "      <th>X_8</th>\n",
              "      <td>-0.061920</td>\n",
              "      <td>-0.039141</td>\n",
              "      <td>-0.033993</td>\n",
              "      <td>0.075578</td>\n",
              "      <td>0.047605</td>\n",
              "      <td>-0.063987</td>\n",
              "      <td>-0.011945</td>\n",
              "      <td>1.000000</td>\n",
              "      <td>-0.090085</td>\n",
              "      <td>0.221936</td>\n",
              "      <td>0.008704</td>\n",
              "      <td>0.273107</td>\n",
              "      <td>-0.048911</td>\n",
              "      <td>0.004202</td>\n",
              "      <td>0.017416</td>\n",
              "      <td>-0.033078</td>\n",
              "    </tr>\n",
              "    <tr>\n",
              "      <th>X_9</th>\n",
              "      <td>0.017744</td>\n",
              "      <td>-0.017633</td>\n",
              "      <td>-0.019795</td>\n",
              "      <td>-0.008830</td>\n",
              "      <td>0.046501</td>\n",
              "      <td>0.079110</td>\n",
              "      <td>0.011080</td>\n",
              "      <td>-0.090085</td>\n",
              "      <td>1.000000</td>\n",
              "      <td>0.013379</td>\n",
              "      <td>-0.005708</td>\n",
              "      <td>0.005150</td>\n",
              "      <td>0.023187</td>\n",
              "      <td>-0.298200</td>\n",
              "      <td>0.006656</td>\n",
              "      <td>-0.000728</td>\n",
              "    </tr>\n",
              "    <tr>\n",
              "      <th>X_10</th>\n",
              "      <td>0.004525</td>\n",
              "      <td>-0.016876</td>\n",
              "      <td>-0.014705</td>\n",
              "      <td>0.038080</td>\n",
              "      <td>0.046195</td>\n",
              "      <td>0.020748</td>\n",
              "      <td>0.022823</td>\n",
              "      <td>0.221936</td>\n",
              "      <td>0.013379</td>\n",
              "      <td>1.000000</td>\n",
              "      <td>-0.046100</td>\n",
              "      <td>0.877743</td>\n",
              "      <td>0.002089</td>\n",
              "      <td>-0.016221</td>\n",
              "      <td>-0.003481</td>\n",
              "      <td>-0.242375</td>\n",
              "    </tr>\n",
              "    <tr>\n",
              "      <th>X_11</th>\n",
              "      <td>-0.002332</td>\n",
              "      <td>0.037949</td>\n",
              "      <td>0.036773</td>\n",
              "      <td>-0.037797</td>\n",
              "      <td>-0.043591</td>\n",
              "      <td>-0.003138</td>\n",
              "      <td>0.002904</td>\n",
              "      <td>0.008704</td>\n",
              "      <td>-0.005708</td>\n",
              "      <td>-0.046100</td>\n",
              "      <td>1.000000</td>\n",
              "      <td>0.027363</td>\n",
              "      <td>0.016962</td>\n",
              "      <td>-0.009325</td>\n",
              "      <td>0.017659</td>\n",
              "      <td>0.105728</td>\n",
              "    </tr>\n",
              "    <tr>\n",
              "      <th>X_12</th>\n",
              "      <td>-0.034835</td>\n",
              "      <td>-0.067720</td>\n",
              "      <td>-0.064872</td>\n",
              "      <td>0.059135</td>\n",
              "      <td>0.082068</td>\n",
              "      <td>-0.031258</td>\n",
              "      <td>-0.000409</td>\n",
              "      <td>0.273107</td>\n",
              "      <td>0.005150</td>\n",
              "      <td>0.877743</td>\n",
              "      <td>0.027363</td>\n",
              "      <td>1.000000</td>\n",
              "      <td>0.030012</td>\n",
              "      <td>-0.042033</td>\n",
              "      <td>0.044005</td>\n",
              "      <td>-0.113061</td>\n",
              "    </tr>\n",
              "    <tr>\n",
              "      <th>X_13</th>\n",
              "      <td>0.110687</td>\n",
              "      <td>0.044312</td>\n",
              "      <td>0.040956</td>\n",
              "      <td>-0.050458</td>\n",
              "      <td>-0.069543</td>\n",
              "      <td>0.047697</td>\n",
              "      <td>0.011969</td>\n",
              "      <td>-0.048911</td>\n",
              "      <td>0.023187</td>\n",
              "      <td>0.002089</td>\n",
              "      <td>0.016962</td>\n",
              "      <td>0.030012</td>\n",
              "      <td>1.000000</td>\n",
              "      <td>-0.062523</td>\n",
              "      <td>0.003303</td>\n",
              "      <td>0.006729</td>\n",
              "    </tr>\n",
              "    <tr>\n",
              "      <th>X_14</th>\n",
              "      <td>-0.011948</td>\n",
              "      <td>0.015200</td>\n",
              "      <td>0.013535</td>\n",
              "      <td>-0.029691</td>\n",
              "      <td>-0.003216</td>\n",
              "      <td>-0.012039</td>\n",
              "      <td>0.004800</td>\n",
              "      <td>0.004202</td>\n",
              "      <td>-0.298200</td>\n",
              "      <td>-0.016221</td>\n",
              "      <td>-0.009325</td>\n",
              "      <td>-0.042033</td>\n",
              "      <td>-0.062523</td>\n",
              "      <td>1.000000</td>\n",
              "      <td>0.010948</td>\n",
              "      <td>-0.015540</td>\n",
              "    </tr>\n",
              "    <tr>\n",
              "      <th>X_15</th>\n",
              "      <td>-0.015616</td>\n",
              "      <td>0.009841</td>\n",
              "      <td>0.003054</td>\n",
              "      <td>-0.030594</td>\n",
              "      <td>-0.032319</td>\n",
              "      <td>-0.006678</td>\n",
              "      <td>-0.002758</td>\n",
              "      <td>0.017416</td>\n",
              "      <td>0.006656</td>\n",
              "      <td>-0.003481</td>\n",
              "      <td>0.017659</td>\n",
              "      <td>0.044005</td>\n",
              "      <td>0.003303</td>\n",
              "      <td>0.010948</td>\n",
              "      <td>1.000000</td>\n",
              "      <td>0.045585</td>\n",
              "    </tr>\n",
              "    <tr>\n",
              "      <th>MALICIOUS_OFFENSE</th>\n",
              "      <td>0.013753</td>\n",
              "      <td>-0.027362</td>\n",
              "      <td>-0.027201</td>\n",
              "      <td>-0.002730</td>\n",
              "      <td>-0.003209</td>\n",
              "      <td>-0.007656</td>\n",
              "      <td>-0.007800</td>\n",
              "      <td>-0.033078</td>\n",
              "      <td>-0.000728</td>\n",
              "      <td>-0.242375</td>\n",
              "      <td>0.105728</td>\n",
              "      <td>-0.113061</td>\n",
              "      <td>0.006729</td>\n",
              "      <td>-0.015540</td>\n",
              "      <td>0.045585</td>\n",
              "      <td>1.000000</td>\n",
              "    </tr>\n",
              "  </tbody>\n",
              "</table>\n",
              "</div>\n",
              "      <button class=\"colab-df-convert\" onclick=\"convertToInteractive('df-45e306b0-7a17-44f9-8931-79fb19b4ce22')\"\n",
              "              title=\"Convert this dataframe to an interactive table.\"\n",
              "              style=\"display:none;\">\n",
              "        \n",
              "  <svg xmlns=\"http://www.w3.org/2000/svg\" height=\"24px\"viewBox=\"0 0 24 24\"\n",
              "       width=\"24px\">\n",
              "    <path d=\"M0 0h24v24H0V0z\" fill=\"none\"/>\n",
              "    <path d=\"M18.56 5.44l.94 2.06.94-2.06 2.06-.94-2.06-.94-.94-2.06-.94 2.06-2.06.94zm-11 1L8.5 8.5l.94-2.06 2.06-.94-2.06-.94L8.5 2.5l-.94 2.06-2.06.94zm10 10l.94 2.06.94-2.06 2.06-.94-2.06-.94-.94-2.06-.94 2.06-2.06.94z\"/><path d=\"M17.41 7.96l-1.37-1.37c-.4-.4-.92-.59-1.43-.59-.52 0-1.04.2-1.43.59L10.3 9.45l-7.72 7.72c-.78.78-.78 2.05 0 2.83L4 21.41c.39.39.9.59 1.41.59.51 0 1.02-.2 1.41-.59l7.78-7.78 2.81-2.81c.8-.78.8-2.07 0-2.86zM5.41 20L4 18.59l7.72-7.72 1.47 1.35L5.41 20z\"/>\n",
              "  </svg>\n",
              "      </button>\n",
              "      \n",
              "  <style>\n",
              "    .colab-df-container {\n",
              "      display:flex;\n",
              "      flex-wrap:wrap;\n",
              "      gap: 12px;\n",
              "    }\n",
              "\n",
              "    .colab-df-convert {\n",
              "      background-color: #E8F0FE;\n",
              "      border: none;\n",
              "      border-radius: 50%;\n",
              "      cursor: pointer;\n",
              "      display: none;\n",
              "      fill: #1967D2;\n",
              "      height: 32px;\n",
              "      padding: 0 0 0 0;\n",
              "      width: 32px;\n",
              "    }\n",
              "\n",
              "    .colab-df-convert:hover {\n",
              "      background-color: #E2EBFA;\n",
              "      box-shadow: 0px 1px 2px rgba(60, 64, 67, 0.3), 0px 1px 3px 1px rgba(60, 64, 67, 0.15);\n",
              "      fill: #174EA6;\n",
              "    }\n",
              "\n",
              "    [theme=dark] .colab-df-convert {\n",
              "      background-color: #3B4455;\n",
              "      fill: #D2E3FC;\n",
              "    }\n",
              "\n",
              "    [theme=dark] .colab-df-convert:hover {\n",
              "      background-color: #434B5C;\n",
              "      box-shadow: 0px 1px 3px 1px rgba(0, 0, 0, 0.15);\n",
              "      filter: drop-shadow(0px 1px 2px rgba(0, 0, 0, 0.3));\n",
              "      fill: #FFFFFF;\n",
              "    }\n",
              "  </style>\n",
              "\n",
              "      <script>\n",
              "        const buttonEl =\n",
              "          document.querySelector('#df-45e306b0-7a17-44f9-8931-79fb19b4ce22 button.colab-df-convert');\n",
              "        buttonEl.style.display =\n",
              "          google.colab.kernel.accessAllowed ? 'block' : 'none';\n",
              "\n",
              "        async function convertToInteractive(key) {\n",
              "          const element = document.querySelector('#df-45e306b0-7a17-44f9-8931-79fb19b4ce22');\n",
              "          const dataTable =\n",
              "            await google.colab.kernel.invokeFunction('convertToInteractive',\n",
              "                                                     [key], {});\n",
              "          if (!dataTable) return;\n",
              "\n",
              "          const docLinkHtml = 'Like what you see? Visit the ' +\n",
              "            '<a target=\"_blank\" href=https://colab.research.google.com/notebooks/data_table.ipynb>data table notebook</a>'\n",
              "            + ' to learn more about interactive tables.';\n",
              "          element.innerHTML = '';\n",
              "          dataTable['output_type'] = 'display_data';\n",
              "          await google.colab.output.renderOutput(dataTable, element);\n",
              "          const docLink = document.createElement('div');\n",
              "          docLink.innerHTML = docLinkHtml;\n",
              "          element.appendChild(docLink);\n",
              "        }\n",
              "      </script>\n",
              "    </div>\n",
              "  </div>\n",
              "  "
            ]
          },
          "metadata": {},
          "execution_count": 9
        }
      ]
    },
    {
      "cell_type": "code",
      "source": [
        "import matplotlib.pyplot as plt\n",
        "import seaborn as sns\n",
        "%matplotlib inline"
      ],
      "metadata": {
        "id": "5fKyBTd9hM_V"
      },
      "execution_count": 10,
      "outputs": []
    },
    {
      "cell_type": "code",
      "source": [
        "sns.heatmap(df.corr(), annot=True)"
      ],
      "metadata": {
        "colab": {
          "base_uri": "https://localhost:8080/",
          "height": 641
        },
        "id": "lgqnYOWNhYS2",
        "outputId": "690eefea-ddb2-4216-fa6d-f97e7ff37f7f"
      },
      "execution_count": 11,
      "outputs": [
        {
          "output_type": "stream",
          "name": "stderr",
          "text": [
            "<ipython-input-11-6dc1c4c1753e>:1: FutureWarning: The default value of numeric_only in DataFrame.corr is deprecated. In a future version, it will default to False. Select only valid columns or specify the value of numeric_only to silence this warning.\n",
            "  sns.heatmap(df.corr(), annot=True)\n"
          ]
        },
        {
          "output_type": "execute_result",
          "data": {
            "text/plain": [
              "<Axes: >"
            ]
          },
          "metadata": {},
          "execution_count": 11
        },
        {
          "output_type": "display_data",
          "data": {
            "text/plain": [
              "<Figure size 640x480 with 2 Axes>"
            ],
            "image/png": "[encoded data removed]"
          },
          "metadata": {}
        }
      ]
    },
    {
      "cell_type": "code",
      "source": [
        "df_obj = df.select_dtypes('object')\n",
        "df_obj.columns"
      ],
      "metadata": {
        "colab": {
          "base_uri": "https://localhost:8080/"
        },
        "id": "_wOJJJWBhego",
        "outputId": "ab235367-9758-4069-ab65-c66836c30127"
      },
      "execution_count": 13,
      "outputs": [
        {
          "output_type": "execute_result",
          "data": {
            "text/plain": [
              "Index(['INCIDENT_ID', 'DATE'], dtype='object')"
            ]
          },
          "metadata": {},
          "execution_count": 13
        }
      ]
    },
    {
      "cell_type": "code",
      "source": [
        "df['INCIDENT_ID'].nunique()"
      ],
      "metadata": {
        "colab": {
          "base_uri": "https://localhost:8080/"
        },
        "id": "_os4RLp9iHyr",
        "outputId": "19d96562-7be3-408a-aee5-d41d635f9ebd"
      },
      "execution_count": 14,
      "outputs": [
        {
          "output_type": "execute_result",
          "data": {
            "text/plain": [
              "23674"
            ]
          },
          "metadata": {},
          "execution_count": 14
        }
      ]
    },
    {
      "cell_type": "code",
      "source": [
        "df.drop(['INCIDENT_ID'], axis=1, inplace=True)"
      ],
      "metadata": {
        "id": "Cj_wbNSIidcc"
      },
      "execution_count": 15,
      "outputs": []
    },
    {
      "cell_type": "code",
      "source": [
        "df.drop(['DATE'], axis=1, inplace=True)"
      ],
      "metadata": {
        "id": "k8pFRrtFipP1"
      },
      "execution_count": 16,
      "outputs": []
    },
    {
      "cell_type": "code",
      "source": [
        "df.columns"
      ],
      "metadata": {
        "colab": {
          "base_uri": "https://localhost:8080/"
        },
        "id": "EL4NSs-YiwcM",
        "outputId": "fe407220-6b0f-4588-9899-2683cb6f973c"
      },
      "execution_count": 18,
      "outputs": [
        {
          "output_type": "execute_result",
          "data": {
            "text/plain": [
              "Index(['X_1', 'X_2', 'X_3', 'X_4', 'X_5', 'X_6', 'X_7', 'X_8', 'X_9', 'X_10',\n",
              "       'X_11', 'X_12', 'X_13', 'X_14', 'X_15', 'MALICIOUS_OFFENSE'],\n",
              "      dtype='object')"
            ]
          },
          "metadata": {},
          "execution_count": 18
        }
      ]
    },
    {
      "cell_type": "code",
      "source": [
        "X = df.drop(['MALICIOUS_OFFENSE'], axis=1)\n",
        "y = df.MALICIOUS_OFFENSE"
      ],
      "metadata": {
        "id": "NPWn1k3tizHJ"
      },
      "execution_count": 19,
      "outputs": []
    },
    {
      "cell_type": "code",
      "source": [
        "from sklearn.model_selection import train_test_split"
      ],
      "metadata": {
        "id": "2S1NpV7LjDrE"
      },
      "execution_count": 20,
      "outputs": []
    },
    {
      "cell_type": "code",
      "source": [
        "X_train, X_test, y_train, y_test = train_test_split(X,y, test_size=0.3, random_state=0)"
      ],
      "metadata": {
        "id": "d_AJhVhUjSR3"
      },
      "execution_count": 22,
      "outputs": []
    },
    {
      "cell_type": "code",
      "source": [
        "from sklearn.ensemble import RandomForestClassifier"
      ],
      "metadata": {
        "id": "_Tq3XPsMjiAa"
      },
      "execution_count": 26,
      "outputs": []
    },
    {
      "cell_type": "code",
      "source": [
        "model = RandomForestClassifier(n_estimators=100)"
      ],
      "metadata": {
        "id": "MllIs4Klj0Ad"
      },
      "execution_count": 27,
      "outputs": []
    },
    {
      "cell_type": "code",
      "source": [
        "model.fit(X_train, y_train)"
      ],
      "metadata": {
        "colab": {
          "base_uri": "https://localhost:8080/",
          "height": 74
        },
        "id": "eRh0CVkSkhOh",
        "outputId": "3bed9172-d8e8-4bec-cddd-3640e5036b1b"
      },
      "execution_count": 28,
      "outputs": [
        {
          "output_type": "execute_result",
          "data": {
            "text/plain": [
              "RandomForestClassifier()"
            ],
            "text/html": [
              "<style>#sk-container-id-1 {color: black;background-color: white;}#sk-container-id-1 pre{padding: 0;}#sk-container-id-1 div.sk-toggleable {background-color: white;}#sk-container-id-1 label.sk-toggleable__label {cursor: pointer;display: block;width: 100%;margin-bottom: 0;padding: 0.3em;box-sizing: border-box;text-align: center;}#sk-container-id-1 label.sk-toggleable__label-arrow:before {content: \"▸\";float: left;margin-right: 0.25em;color: #696969;}#sk-container-id-1 label.sk-toggleable__label-arrow:hover:before {color: black;}#sk-container-id-1 div.sk-estimator:hover label.sk-toggleable__label-arrow:before {color: black;}#sk-container-id-1 div.sk-toggleable__content {max-height: 0;max-width: 0;overflow: hidden;text-align: left;background-color: #f0f8ff;}#sk-container-id-1 div.sk-toggleable__content pre {margin: 0.2em;color: black;border-radius: 0.25em;background-color: #f0f8ff;}#sk-container-id-1 input.sk-toggleable__control:checked~div.sk-toggleable__content {max-height: 200px;max-width: 100%;overflow: auto;}#sk-container-id-1 input.sk-toggleable__control:checked~label.sk-toggleable__label-arrow:before {content: \"▾\";}#sk-container-id-1 div.sk-estimator input.sk-toggleable__control:checked~label.sk-toggleable__label {background-color: #d4ebff;}#sk-container-id-1 div.sk-label input.sk-toggleable__control:checked~label.sk-toggleable__label {background-color: #d4ebff;}#sk-container-id-1 input.sk-hidden--visually {border: 0;clip: rect(1px 1px 1px 1px);clip: rect(1px, 1px, 1px, 1px);height: 1px;margin: -1px;overflow: hidden;padding: 0;position: absolute;width: 1px;}#sk-container-id-1 div.sk-estimator {font-family: monospace;background-color: #f0f8ff;border: 1px dotted black;border-radius: 0.25em;box-sizing: border-box;margin-bottom: 0.5em;}#sk-container-id-1 div.sk-estimator:hover {background-color: #d4ebff;}#sk-container-id-1 div.sk-parallel-item::after {content: \"\";width: 100%;border-bottom: 1px solid gray;flex-grow: 1;}#sk-container-id-1 div.sk-label:hover label.sk-toggleable__label {background-color: #d4ebff;}#sk-container-id-1 div.sk-serial::before {content: \"\";position: absolute;border-left: 1px solid gray;box-sizing: border-box;top: 0;bottom: 0;left: 50%;z-index: 0;}#sk-container-id-1 div.sk-serial {display: flex;flex-direction: column;align-items: center;background-color: white;padding-right: 0.2em;padding-left: 0.2em;position: relative;}#sk-container-id-1 div.sk-item {position: relative;z-index: 1;}#sk-container-id-1 div.sk-parallel {display: flex;align-items: stretch;justify-content: center;background-color: white;position: relative;}#sk-container-id-1 div.sk-item::before, #sk-container-id-1 div.sk-parallel-item::before {content: \"\";position: absolute;border-left: 1px solid gray;box-sizing: border-box;top: 0;bottom: 0;left: 50%;z-index: -1;}#sk-container-id-1 div.sk-parallel-item {display: flex;flex-direction: column;z-index: 1;position: relative;background-color: white;}#sk-container-id-1 div.sk-parallel-item:first-child::after {align-self: flex-end;width: 50%;}#sk-container-id-1 div.sk-parallel-item:last-child::after {align-self: flex-start;width: 50%;}#sk-container-id-1 div.sk-parallel-item:only-child::after {width: 0;}#sk-container-id-1 div.sk-dashed-wrapped {border: 1px dashed gray;margin: 0 0.4em 0.5em 0.4em;box-sizing: border-box;padding-bottom: 0.4em;background-color: white;}#sk-container-id-1 div.sk-label label {font-family: monospace;font-weight: bold;display: inline-block;line-height: 1.2em;}#sk-container-id-1 div.sk-label-container {text-align: center;}#sk-container-id-1 div.sk-container {/* jupyter's `normalize.less` sets `[hidden] { display: none; }` but bootstrap.min.css set `[hidden] { display: none !important; }` so we also need the `!important` here to be able to override the default hidden behavior on the sphinx rendered scikit-learn.org. See: https://github.com/scikit-learn/scikit-learn/issues/21755 */display: inline-block !important;position: relative;}#sk-container-id-1 div.sk-text-repr-fallback {display: none;}</style><div id=\"sk-container-id-1\" class=\"sk-top-container\"><div class=\"sk-text-repr-fallback\"><pre>RandomForestClassifier()</pre><b>In a Jupyter environment, please rerun this cell to show the HTML representation or trust the notebook. <br />On GitHub, the HTML representation is unable to render, please try loading this page with nbviewer.org.</b></div><div class=\"sk-container\" hidden><div class=\"sk-item\"><div class=\"sk-estimator sk-toggleable\"><input class=\"sk-toggleable__control sk-hidden--visually\" id=\"sk-estimator-id-1\" type=\"checkbox\" checked><label for=\"sk-estimator-id-1\" class=\"sk-toggleable__label sk-toggleable__label-arrow\">RandomForestClassifier</label><div class=\"sk-toggleable__content\"><pre>RandomForestClassifier()</pre></div></div></div></div></div>"
            ]
          },
          "metadata": {},
          "execution_count": 28
        }
      ]
    },
    {
      "cell_type": "code",
      "source": [
        "y_pred = model.predict(X_test)"
      ],
      "metadata": {
        "id": "VwAINClCkpRf"
      },
      "execution_count": 29,
      "outputs": []
    },
    {
      "cell_type": "code",
      "source": [
        "from sklearn.metrics import confusion_matrix, classification_report, accuracy_score"
      ],
      "metadata": {
        "id": "W7zrM3UdkuF-"
      },
      "execution_count": 30,
      "outputs": []
    },
    {
      "cell_type": "code",
      "source": [
        "confusion_matrix(y_test, y_pred)"
      ],
      "metadata": {
        "colab": {
          "base_uri": "https://localhost:8080/"
        },
        "id": "s-tT8O-sk7tv",
        "outputId": "aa0558ee-7847-44d2-96d3-5eabaf630a7b"
      },
      "execution_count": 31,
      "outputs": [
        {
          "output_type": "execute_result",
          "data": {
            "text/plain": [
              "array([[ 258,   43],\n",
              "       [   9, 6793]])"
            ]
          },
          "metadata": {},
          "execution_count": 31
        }
      ]
    },
    {
      "cell_type": "code",
      "source": [
        "accuracy_score(y_test, y_pred)"
      ],
      "metadata": {
        "colab": {
          "base_uri": "https://localhost:8080/"
        },
        "id": "G_OMI_VRk_yk",
        "outputId": "e0bf9b54-ffdd-46a6-c361-6eb4424f8293"
      },
      "execution_count": 32,
      "outputs": [
        {
          "output_type": "execute_result",
          "data": {
            "text/plain": [
              "0.9926791496550753"
            ]
          },
          "metadata": {},
          "execution_count": 32
        }
      ]
    },
    {
      "cell_type": "code",
      "source": [
        "from sklearn.model_selection import StratifiedKFold"
      ],
      "metadata": {
        "id": "RtIWL5kDnaFg"
      },
      "execution_count": 35,
      "outputs": []
    },
    {
      "cell_type": "code",
      "source": [
        "from sklearn.feature_selection import RFECV\n",
        "rfecv = RFECV(RandomForestClassifier(n_estimators=100), cv=StratifiedKFold(3))"
      ],
      "metadata": {
        "id": "NK9Y6HxClEhQ"
      },
      "execution_count": 36,
      "outputs": []
    },
    {
      "cell_type": "code",
      "source": [
        "rfecv.fit(X,y)"
      ],
      "metadata": {
        "colab": {
          "base_uri": "https://localhost:8080/",
          "height": 117
        },
        "id": "nZziTd12nR_Q",
        "outputId": "a4226e3d-0b16-4aa4-fa1c-c170d289bfa6"
      },
      "execution_count": 37,
      "outputs": [
        {
          "output_type": "execute_result",
          "data": {
            "text/plain": [
              "RFECV(cv=StratifiedKFold(n_splits=3, random_state=None, shuffle=False),\n",
              "      estimator=RandomForestClassifier())"
            ],
            "text/html": [
              "<style>#sk-container-id-3 {color: black;background-color: white;}#sk-container-id-3 pre{padding: 0;}#sk-container-id-3 div.sk-toggleable {background-color: white;}#sk-container-id-3 label.sk-toggleable__label {cursor: pointer;display: block;width: 100%;margin-bottom: 0;padding: 0.3em;box-sizing: border-box;text-align: center;}#sk-container-id-3 label.sk-toggleable__label-arrow:before {content: \"▸\";float: left;margin-right: 0.25em;color: #696969;}#sk-container-id-3 label.sk-toggleable__label-arrow:hover:before {color: black;}#sk-container-id-3 div.sk-estimator:hover label.sk-toggleable__label-arrow:before {color: black;}#sk-container-id-3 div.sk-toggleable__content {max-height: 0;max-width: 0;overflow: hidden;text-align: left;background-color: #f0f8ff;}#sk-container-id-3 div.sk-toggleable__content pre {margin: 0.2em;color: black;border-radius: 0.25em;background-color: #f0f8ff;}#sk-container-id-3 input.sk-toggleable__control:checked~div.sk-toggleable__content {max-height: 200px;max-width: 100%;overflow: auto;}#sk-container-id-3 input.sk-toggleable__control:checked~label.sk-toggleable__label-arrow:before {content: \"▾\";}#sk-container-id-3 div.sk-estimator input.sk-toggleable__control:checked~label.sk-toggleable__label {background-color: #d4ebff;}#sk-container-id-3 div.sk-label input.sk-toggleable__control:checked~label.sk-toggleable__label {background-color: #d4ebff;}#sk-container-id-3 input.sk-hidden--visually {border: 0;clip: rect(1px 1px 1px 1px);clip: rect(1px, 1px, 1px, 1px);height: 1px;margin: -1px;overflow: hidden;padding: 0;position: absolute;width: 1px;}#sk-container-id-3 div.sk-estimator {font-family: monospace;background-color: #f0f8ff;border: 1px dotted black;border-radius: 0.25em;box-sizing: border-box;margin-bottom: 0.5em;}#sk-container-id-3 div.sk-estimator:hover {background-color: #d4ebff;}#sk-container-id-3 div.sk-parallel-item::after {content: \"\";width: 100%;border-bottom: 1px solid gray;flex-grow: 1;}#sk-container-id-3 div.sk-label:hover label.sk-toggleable__label {background-color: #d4ebff;}#sk-container-id-3 div.sk-serial::before {content: \"\";position: absolute;border-left: 1px solid gray;box-sizing: border-box;top: 0;bottom: 0;left: 50%;z-index: 0;}#sk-container-id-3 div.sk-serial {display: flex;flex-direction: column;align-items: center;background-color: white;padding-right: 0.2em;padding-left: 0.2em;position: relative;}#sk-container-id-3 div.sk-item {position: relative;z-index: 1;}#sk-container-id-3 div.sk-parallel {display: flex;align-items: stretch;justify-content: center;background-color: white;position: relative;}#sk-container-id-3 div.sk-item::before, #sk-container-id-3 div.sk-parallel-item::before {content: \"\";position: absolute;border-left: 1px solid gray;box-sizing: border-box;top: 0;bottom: 0;left: 50%;z-index: -1;}#sk-container-id-3 div.sk-parallel-item {display: flex;flex-direction: column;z-index: 1;position: relative;background-color: white;}#sk-container-id-3 div.sk-parallel-item:first-child::after {align-self: flex-end;width: 50%;}#sk-container-id-3 div.sk-parallel-item:last-child::after {align-self: flex-start;width: 50%;}#sk-container-id-3 div.sk-parallel-item:only-child::after {width: 0;}#sk-container-id-3 div.sk-dashed-wrapped {border: 1px dashed gray;margin: 0 0.4em 0.5em 0.4em;box-sizing: border-box;padding-bottom: 0.4em;background-color: white;}#sk-container-id-3 div.sk-label label {font-family: monospace;font-weight: bold;display: inline-block;line-height: 1.2em;}#sk-container-id-3 div.sk-label-container {text-align: center;}#sk-container-id-3 div.sk-container {/* jupyter's `normalize.less` sets `[hidden] { display: none; }` but bootstrap.min.css set `[hidden] { display: none !important; }` so we also need the `!important` here to be able to override the default hidden behavior on the sphinx rendered scikit-learn.org. See: https://github.com/scikit-learn/scikit-learn/issues/21755 */display: inline-block !important;position: relative;}#sk-container-id-3 div.sk-text-repr-fallback {display: none;}</style><div id=\"sk-container-id-3\" class=\"sk-top-container\"><div class=\"sk-text-repr-fallback\"><pre>RFECV(cv=StratifiedKFold(n_splits=3, random_state=None, shuffle=False),\n",
              "      estimator=RandomForestClassifier())</pre><b>In a Jupyter environment, please rerun this cell to show the HTML representation or trust the notebook. <br />On GitHub, the HTML representation is unable to render, please try loading this page with nbviewer.org.</b></div><div class=\"sk-container\" hidden><div class=\"sk-item sk-dashed-wrapped\"><div class=\"sk-label-container\"><div class=\"sk-label sk-toggleable\"><input class=\"sk-toggleable__control sk-hidden--visually\" id=\"sk-estimator-id-5\" type=\"checkbox\" ><label for=\"sk-estimator-id-5\" class=\"sk-toggleable__label sk-toggleable__label-arrow\">RFECV</label><div class=\"sk-toggleable__content\"><pre>RFECV(cv=StratifiedKFold(n_splits=3, random_state=None, shuffle=False),\n",
              "      estimator=RandomForestClassifier())</pre></div></div></div><div class=\"sk-parallel\"><div class=\"sk-parallel-item\"><div class=\"sk-item\"><div class=\"sk-label-container\"><div class=\"sk-label sk-toggleable\"><input class=\"sk-toggleable__control sk-hidden--visually\" id=\"sk-estimator-id-6\" type=\"checkbox\" ><label for=\"sk-estimator-id-6\" class=\"sk-toggleable__label sk-toggleable__label-arrow\">estimator: RandomForestClassifier</label><div class=\"sk-toggleable__content\"><pre>RandomForestClassifier()</pre></div></div></div><div class=\"sk-serial\"><div class=\"sk-item\"><div class=\"sk-estimator sk-toggleable\"><input class=\"sk-toggleable__control sk-hidden--visually\" id=\"sk-estimator-id-7\" type=\"checkbox\" ><label for=\"sk-estimator-id-7\" class=\"sk-toggleable__label sk-toggleable__label-arrow\">RandomForestClassifier</label><div class=\"sk-toggleable__content\"><pre>RandomForestClassifier()</pre></div></div></div></div></div></div></div></div></div></div>"
            ]
          },
          "metadata": {},
          "execution_count": 37
        }
      ]
    },
    {
      "cell_type": "code",
      "source": [
        "rfecv.n_features_"
      ],
      "metadata": {
        "colab": {
          "base_uri": "https://localhost:8080/"
        },
        "id": "5nQ-bSswz3ZY",
        "outputId": "3b5a9130-a424-4d1c-fadf-4fc5116146c5"
      },
      "execution_count": 38,
      "outputs": [
        {
          "output_type": "execute_result",
          "data": {
            "text/plain": [
              "4"
            ]
          },
          "metadata": {},
          "execution_count": 38
        }
      ]
    },
    {
      "cell_type": "code",
      "source": [
        "rfecv.ranking_"
      ],
      "metadata": {
        "colab": {
          "base_uri": "https://localhost:8080/"
        },
        "id": "h_Q4ta1f0ZbR",
        "outputId": "58d2a04d-5428-4a98-e4e2-fb81fe394975"
      },
      "execution_count": 40,
      "outputs": [
        {
          "output_type": "execute_result",
          "data": {
            "text/plain": [
              "array([12,  3,  2,  9, 11,  5,  8,  7, 10,  1,  1,  1,  4,  6,  1])"
            ]
          },
          "metadata": {},
          "execution_count": 40
        }
      ]
    },
    {
      "cell_type": "code",
      "source": [
        "rfecv.get_support()"
      ],
      "metadata": {
        "colab": {
          "base_uri": "https://localhost:8080/"
        },
        "id": "X_iTVpxR0eqO",
        "outputId": "33868f86-a0b8-41a2-824e-0fb08a6f485c"
      },
      "execution_count": 44,
      "outputs": [
        {
          "output_type": "execute_result",
          "data": {
            "text/plain": [
              "array([False, False, False, False, False, False, False, False, False,\n",
              "        True,  True,  True, False, False,  True])"
            ]
          },
          "metadata": {},
          "execution_count": 44
        }
      ]
    },
    {
      "cell_type": "code",
      "source": [
        "X.columns[rfecv.get_support()]"
      ],
      "metadata": {
        "colab": {
          "base_uri": "https://localhost:8080/"
        },
        "id": "FuuvHkWS0rAY",
        "outputId": "cc970ad1-670a-4389-c45f-7bd63f2eae68"
      },
      "execution_count": 46,
      "outputs": [
        {
          "output_type": "execute_result",
          "data": {
            "text/plain": [
              "Index(['X_10', 'X_11', 'X_12', 'X_15'], dtype='object')"
            ]
          },
          "metadata": {},
          "execution_count": 46
        }
      ]
    },
    {
      "cell_type": "code",
      "source": [
        "X_train1 = rfecv.transform(X_train)\n",
        "X_test1 = rfecv.transform(X_test)"
      ],
      "metadata": {
        "id": "W4rpCeAl1BE-"
      },
      "execution_count": 48,
      "outputs": []
    },
    {
      "cell_type": "code",
      "source": [
        "model.fit(X_train1, y_train)"
      ],
      "metadata": {
        "colab": {
          "base_uri": "https://localhost:8080/",
          "height": 74
        },
        "id": "0py9uqFJ1Rds",
        "outputId": "798aabb3-cf01-45b0-e7f6-a23a3ac2f1d6"
      },
      "execution_count": 49,
      "outputs": [
        {
          "output_type": "execute_result",
          "data": {
            "text/plain": [
              "RandomForestClassifier()"
            ],
            "text/html": [
              "<style>#sk-container-id-4 {color: black;background-color: white;}#sk-container-id-4 pre{padding: 0;}#sk-container-id-4 div.sk-toggleable {background-color: white;}#sk-container-id-4 label.sk-toggleable__label {cursor: pointer;display: block;width: 100%;margin-bottom: 0;padding: 0.3em;box-sizing: border-box;text-align: center;}#sk-container-id-4 label.sk-toggleable__label-arrow:before {content: \"▸\";float: left;margin-right: 0.25em;color: #696969;}#sk-container-id-4 label.sk-toggleable__label-arrow:hover:before {color: black;}#sk-container-id-4 div.sk-estimator:hover label.sk-toggleable__label-arrow:before {color: black;}#sk-container-id-4 div.sk-toggleable__content {max-height: 0;max-width: 0;overflow: hidden;text-align: left;background-color: #f0f8ff;}#sk-container-id-4 div.sk-toggleable__content pre {margin: 0.2em;color: black;border-radius: 0.25em;background-color: #f0f8ff;}#sk-container-id-4 input.sk-toggleable__control:checked~div.sk-toggleable__content {max-height: 200px;max-width: 100%;overflow: auto;}#sk-container-id-4 input.sk-toggleable__control:checked~label.sk-toggleable__label-arrow:before {content: \"▾\";}#sk-container-id-4 div.sk-estimator input.sk-toggleable__control:checked~label.sk-toggleable__label {background-color: #d4ebff;}#sk-container-id-4 div.sk-label input.sk-toggleable__control:checked~label.sk-toggleable__label {background-color: #d4ebff;}#sk-container-id-4 input.sk-hidden--visually {border: 0;clip: rect(1px 1px 1px 1px);clip: rect(1px, 1px, 1px, 1px);height: 1px;margin: -1px;overflow: hidden;padding: 0;position: absolute;width: 1px;}#sk-container-id-4 div.sk-estimator {font-family: monospace;background-color: #f0f8ff;border: 1px dotted black;border-radius: 0.25em;box-sizing: border-box;margin-bottom: 0.5em;}#sk-container-id-4 div.sk-estimator:hover {background-color: #d4ebff;}#sk-container-id-4 div.sk-parallel-item::after {content: \"\";width: 100%;border-bottom: 1px solid gray;flex-grow: 1;}#sk-container-id-4 div.sk-label:hover label.sk-toggleable__label {background-color: #d4ebff;}#sk-container-id-4 div.sk-serial::before {content: \"\";position: absolute;border-left: 1px solid gray;box-sizing: border-box;top: 0;bottom: 0;left: 50%;z-index: 0;}#sk-container-id-4 div.sk-serial {display: flex;flex-direction: column;align-items: center;background-color: white;padding-right: 0.2em;padding-left: 0.2em;position: relative;}#sk-container-id-4 div.sk-item {position: relative;z-index: 1;}#sk-container-id-4 div.sk-parallel {display: flex;align-items: stretch;justify-content: center;background-color: white;position: relative;}#sk-container-id-4 div.sk-item::before, #sk-container-id-4 div.sk-parallel-item::before {content: \"\";position: absolute;border-left: 1px solid gray;box-sizing: border-box;top: 0;bottom: 0;left: 50%;z-index: -1;}#sk-container-id-4 div.sk-parallel-item {display: flex;flex-direction: column;z-index: 1;position: relative;background-color: white;}#sk-container-id-4 div.sk-parallel-item:first-child::after {align-self: flex-end;width: 50%;}#sk-container-id-4 div.sk-parallel-item:last-child::after {align-self: flex-start;width: 50%;}#sk-container-id-4 div.sk-parallel-item:only-child::after {width: 0;}#sk-container-id-4 div.sk-dashed-wrapped {border: 1px dashed gray;margin: 0 0.4em 0.5em 0.4em;box-sizing: border-box;padding-bottom: 0.4em;background-color: white;}#sk-container-id-4 div.sk-label label {font-family: monospace;font-weight: bold;display: inline-block;line-height: 1.2em;}#sk-container-id-4 div.sk-label-container {text-align: center;}#sk-container-id-4 div.sk-container {/* jupyter's `normalize.less` sets `[hidden] { display: none; }` but bootstrap.min.css set `[hidden] { display: none !important; }` so we also need the `!important` here to be able to override the default hidden behavior on the sphinx rendered scikit-learn.org. See: https://github.com/scikit-learn/scikit-learn/issues/21755 */display: inline-block !important;position: relative;}#sk-container-id-4 div.sk-text-repr-fallback {display: none;}</style><div id=\"sk-container-id-4\" class=\"sk-top-container\"><div class=\"sk-text-repr-fallback\"><pre>RandomForestClassifier()</pre><b>In a Jupyter environment, please rerun this cell to show the HTML representation or trust the notebook. <br />On GitHub, the HTML representation is unable to render, please try loading this page with nbviewer.org.</b></div><div class=\"sk-container\" hidden><div class=\"sk-item\"><div class=\"sk-estimator sk-toggleable\"><input class=\"sk-toggleable__control sk-hidden--visually\" id=\"sk-estimator-id-8\" type=\"checkbox\" checked><label for=\"sk-estimator-id-8\" class=\"sk-toggleable__label sk-toggleable__label-arrow\">RandomForestClassifier</label><div class=\"sk-toggleable__content\"><pre>RandomForestClassifier()</pre></div></div></div></div></div>"
            ]
          },
          "metadata": {},
          "execution_count": 49
        }
      ]
    },
    {
      "cell_type": "code",
      "source": [
        "y_pred1 = model.predict(X_test1)"
      ],
      "metadata": {
        "id": "ita7cp2K1azq"
      },
      "execution_count": 50,
      "outputs": []
    },
    {
      "cell_type": "code",
      "source": [
        "accuracy_score(y_test, y_pred1)"
      ],
      "metadata": {
        "colab": {
          "base_uri": "https://localhost:8080/"
        },
        "id": "eySwvrWr1fzP",
        "outputId": "fd75eeac-a84a-4fac-fb96-925462d1f7ad"
      },
      "execution_count": 51,
      "outputs": [
        {
          "output_type": "execute_result",
          "data": {
            "text/plain": [
              "0.9990145009151062"
            ]
          },
          "metadata": {},
          "execution_count": 51
        }
      ]
    },
    {
      "cell_type": "code",
      "source": [],
      "metadata": {
        "id": "vVcxxtWA1qU8"
      },
      "execution_count": null,
      "outputs": []
    }
  ]
}