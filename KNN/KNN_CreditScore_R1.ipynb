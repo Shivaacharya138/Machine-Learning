{
 "cells": [
  {
   "cell_type": "code",
   "execution_count": 1,
   "id": "f402a1cc",
   "metadata": {},
   "outputs": [],
   "source": [
    "import pandas as pd\n",
    "import numpy as np\n",
    "import matplotlib.pyplot as plt\n",
    "import seaborn as sns\n",
    "%matplotlib inline"
   ]
  },
  {
   "cell_type": "code",
   "execution_count": 2,
   "id": "d771d765",
   "metadata": {},
   "outputs": [
    {
     "data": {
      "text/html": [
       "<div>\n",
       "<style scoped>\n",
       "    .dataframe tbody tr th:only-of-type {\n",
       "        vertical-align: middle;\n",
       "    }\n",
       "\n",
       "    .dataframe tbody tr th {\n",
       "        vertical-align: top;\n",
       "    }\n",
       "\n",
       "    .dataframe thead th {\n",
       "        text-align: right;\n",
       "    }\n",
       "</style>\n",
       "<table border=\"1\" class=\"dataframe\">\n",
       "  <thead>\n",
       "    <tr style=\"text-align: right;\">\n",
       "      <th></th>\n",
       "      <th>Age</th>\n",
       "      <th>Gender</th>\n",
       "      <th>Income</th>\n",
       "      <th>Education</th>\n",
       "      <th>Marital Status</th>\n",
       "      <th>Number of Children</th>\n",
       "      <th>Home Ownership</th>\n",
       "      <th>Credit Score</th>\n",
       "    </tr>\n",
       "  </thead>\n",
       "  <tbody>\n",
       "    <tr>\n",
       "      <th>0</th>\n",
       "      <td>25</td>\n",
       "      <td>Female</td>\n",
       "      <td>50000</td>\n",
       "      <td>Bachelor's Degree</td>\n",
       "      <td>Single</td>\n",
       "      <td>0</td>\n",
       "      <td>Rented</td>\n",
       "      <td>High</td>\n",
       "    </tr>\n",
       "    <tr>\n",
       "      <th>1</th>\n",
       "      <td>30</td>\n",
       "      <td>Male</td>\n",
       "      <td>100000</td>\n",
       "      <td>Master's Degree</td>\n",
       "      <td>Married</td>\n",
       "      <td>2</td>\n",
       "      <td>Owned</td>\n",
       "      <td>High</td>\n",
       "    </tr>\n",
       "    <tr>\n",
       "      <th>2</th>\n",
       "      <td>35</td>\n",
       "      <td>Female</td>\n",
       "      <td>75000</td>\n",
       "      <td>Doctorate</td>\n",
       "      <td>Married</td>\n",
       "      <td>1</td>\n",
       "      <td>Owned</td>\n",
       "      <td>High</td>\n",
       "    </tr>\n",
       "    <tr>\n",
       "      <th>3</th>\n",
       "      <td>40</td>\n",
       "      <td>Male</td>\n",
       "      <td>125000</td>\n",
       "      <td>High School Diploma</td>\n",
       "      <td>Single</td>\n",
       "      <td>0</td>\n",
       "      <td>Owned</td>\n",
       "      <td>High</td>\n",
       "    </tr>\n",
       "    <tr>\n",
       "      <th>4</th>\n",
       "      <td>45</td>\n",
       "      <td>Female</td>\n",
       "      <td>100000</td>\n",
       "      <td>Bachelor's Degree</td>\n",
       "      <td>Married</td>\n",
       "      <td>3</td>\n",
       "      <td>Owned</td>\n",
       "      <td>High</td>\n",
       "    </tr>\n",
       "  </tbody>\n",
       "</table>\n",
       "</div>"
      ],
      "text/plain": [
       "   Age  Gender  Income            Education Marital Status  \\\n",
       "0   25  Female   50000    Bachelor's Degree         Single   \n",
       "1   30    Male  100000      Master's Degree        Married   \n",
       "2   35  Female   75000            Doctorate        Married   \n",
       "3   40    Male  125000  High School Diploma         Single   \n",
       "4   45  Female  100000    Bachelor's Degree        Married   \n",
       "\n",
       "   Number of Children Home Ownership Credit Score  \n",
       "0                   0         Rented         High  \n",
       "1                   2          Owned         High  \n",
       "2                   1          Owned         High  \n",
       "3                   0          Owned         High  \n",
       "4                   3          Owned         High  "
      ]
     },
     "execution_count": 2,
     "metadata": {},
     "output_type": "execute_result"
    }
   ],
   "source": [
    "df  = pd.read_csv(\"E:\\Intellipaat Class\\Machine Learning\\Case Study\\KNN\\Credit-Score-Dataset.csv\")\n",
    "df.head()"
   ]
  },
  {
   "cell_type": "code",
   "execution_count": 3,
   "id": "bd3def7c",
   "metadata": {},
   "outputs": [
    {
     "data": {
      "text/html": [
       "<div>\n",
       "<style scoped>\n",
       "    .dataframe tbody tr th:only-of-type {\n",
       "        vertical-align: middle;\n",
       "    }\n",
       "\n",
       "    .dataframe tbody tr th {\n",
       "        vertical-align: top;\n",
       "    }\n",
       "\n",
       "    .dataframe thead th {\n",
       "        text-align: right;\n",
       "    }\n",
       "</style>\n",
       "<table border=\"1\" class=\"dataframe\">\n",
       "  <thead>\n",
       "    <tr style=\"text-align: right;\">\n",
       "      <th></th>\n",
       "      <th>Age</th>\n",
       "      <th>Gender</th>\n",
       "      <th>Income</th>\n",
       "      <th>Education</th>\n",
       "      <th>Marital Status</th>\n",
       "      <th>Number of Children</th>\n",
       "      <th>Home Ownership</th>\n",
       "      <th>Credit Score</th>\n",
       "    </tr>\n",
       "  </thead>\n",
       "  <tbody>\n",
       "    <tr>\n",
       "      <th>159</th>\n",
       "      <td>29</td>\n",
       "      <td>Female</td>\n",
       "      <td>27500</td>\n",
       "      <td>High School Diploma</td>\n",
       "      <td>Single</td>\n",
       "      <td>0</td>\n",
       "      <td>Rented</td>\n",
       "      <td>Low</td>\n",
       "    </tr>\n",
       "    <tr>\n",
       "      <th>160</th>\n",
       "      <td>34</td>\n",
       "      <td>Male</td>\n",
       "      <td>47500</td>\n",
       "      <td>Associate's Degree</td>\n",
       "      <td>Single</td>\n",
       "      <td>0</td>\n",
       "      <td>Rented</td>\n",
       "      <td>Average</td>\n",
       "    </tr>\n",
       "    <tr>\n",
       "      <th>161</th>\n",
       "      <td>39</td>\n",
       "      <td>Female</td>\n",
       "      <td>62500</td>\n",
       "      <td>Bachelor's Degree</td>\n",
       "      <td>Married</td>\n",
       "      <td>2</td>\n",
       "      <td>Owned</td>\n",
       "      <td>High</td>\n",
       "    </tr>\n",
       "    <tr>\n",
       "      <th>162</th>\n",
       "      <td>44</td>\n",
       "      <td>Male</td>\n",
       "      <td>87500</td>\n",
       "      <td>Master's Degree</td>\n",
       "      <td>Single</td>\n",
       "      <td>0</td>\n",
       "      <td>Owned</td>\n",
       "      <td>High</td>\n",
       "    </tr>\n",
       "    <tr>\n",
       "      <th>163</th>\n",
       "      <td>49</td>\n",
       "      <td>Female</td>\n",
       "      <td>77500</td>\n",
       "      <td>Doctorate</td>\n",
       "      <td>Married</td>\n",
       "      <td>1</td>\n",
       "      <td>Owned</td>\n",
       "      <td>High</td>\n",
       "    </tr>\n",
       "  </tbody>\n",
       "</table>\n",
       "</div>"
      ],
      "text/plain": [
       "     Age  Gender  Income            Education Marital Status  \\\n",
       "159   29  Female   27500  High School Diploma         Single   \n",
       "160   34    Male   47500   Associate's Degree         Single   \n",
       "161   39  Female   62500    Bachelor's Degree        Married   \n",
       "162   44    Male   87500      Master's Degree         Single   \n",
       "163   49  Female   77500            Doctorate        Married   \n",
       "\n",
       "     Number of Children Home Ownership Credit Score  \n",
       "159                   0         Rented          Low  \n",
       "160                   0         Rented      Average  \n",
       "161                   2          Owned         High  \n",
       "162                   0          Owned         High  \n",
       "163                   1          Owned         High  "
      ]
     },
     "execution_count": 3,
     "metadata": {},
     "output_type": "execute_result"
    }
   ],
   "source": [
    "df.tail()"
   ]
  },
  {
   "cell_type": "code",
   "execution_count": 4,
   "id": "f3ecb4bd",
   "metadata": {},
   "outputs": [
    {
     "data": {
      "text/plain": [
       "(164, 8)"
      ]
     },
     "execution_count": 4,
     "metadata": {},
     "output_type": "execute_result"
    }
   ],
   "source": [
    "df.shape"
   ]
  },
  {
   "cell_type": "code",
   "execution_count": 5,
   "id": "e0e55361",
   "metadata": {},
   "outputs": [
    {
     "data": {
      "text/plain": [
       "Age                   0\n",
       "Gender                0\n",
       "Income                0\n",
       "Education             0\n",
       "Marital Status        0\n",
       "Number of Children    0\n",
       "Home Ownership        0\n",
       "Credit Score          0\n",
       "dtype: int64"
      ]
     },
     "execution_count": 5,
     "metadata": {},
     "output_type": "execute_result"
    }
   ],
   "source": [
    "df.isnull().sum()"
   ]
  },
  {
   "cell_type": "code",
   "execution_count": 6,
   "id": "c2825b92",
   "metadata": {},
   "outputs": [
    {
     "data": {
      "text/plain": [
       "62"
      ]
     },
     "execution_count": 6,
     "metadata": {},
     "output_type": "execute_result"
    }
   ],
   "source": [
    "df.duplicated().sum()"
   ]
  },
  {
   "cell_type": "code",
   "execution_count": 7,
   "id": "12d2f613",
   "metadata": {},
   "outputs": [],
   "source": [
    "df.drop_duplicates(inplace=True)"
   ]
  },
  {
   "cell_type": "code",
   "execution_count": 8,
   "id": "c9d8df4f",
   "metadata": {},
   "outputs": [
    {
     "data": {
      "text/plain": [
       "0"
      ]
     },
     "execution_count": 8,
     "metadata": {},
     "output_type": "execute_result"
    }
   ],
   "source": [
    "df.duplicated().sum()"
   ]
  },
  {
   "cell_type": "code",
   "execution_count": 9,
   "id": "d2cc4a01",
   "metadata": {},
   "outputs": [
    {
     "data": {
      "text/plain": [
       "(102, 8)"
      ]
     },
     "execution_count": 9,
     "metadata": {},
     "output_type": "execute_result"
    }
   ],
   "source": [
    "df.shape"
   ]
  },
  {
   "cell_type": "code",
   "execution_count": 10,
   "id": "6f92a92d",
   "metadata": {},
   "outputs": [
    {
     "name": "stdout",
     "output_type": "stream",
     "text": [
      "<class 'pandas.core.frame.DataFrame'>\n",
      "Int64Index: 102 entries, 0 to 134\n",
      "Data columns (total 8 columns):\n",
      " #   Column              Non-Null Count  Dtype \n",
      "---  ------              --------------  ----- \n",
      " 0   Age                 102 non-null    int64 \n",
      " 1   Gender              102 non-null    object\n",
      " 2   Income              102 non-null    int64 \n",
      " 3   Education           102 non-null    object\n",
      " 4   Marital Status      102 non-null    object\n",
      " 5   Number of Children  102 non-null    int64 \n",
      " 6   Home Ownership      102 non-null    object\n",
      " 7   Credit Score        102 non-null    object\n",
      "dtypes: int64(3), object(5)\n",
      "memory usage: 7.2+ KB\n"
     ]
    }
   ],
   "source": [
    "df.info()"
   ]
  },
  {
   "cell_type": "code",
   "execution_count": 11,
   "id": "527ba1c9",
   "metadata": {},
   "outputs": [
    {
     "data": {
      "text/html": [
       "<div>\n",
       "<style scoped>\n",
       "    .dataframe tbody tr th:only-of-type {\n",
       "        vertical-align: middle;\n",
       "    }\n",
       "\n",
       "    .dataframe tbody tr th {\n",
       "        vertical-align: top;\n",
       "    }\n",
       "\n",
       "    .dataframe thead th {\n",
       "        text-align: right;\n",
       "    }\n",
       "</style>\n",
       "<table border=\"1\" class=\"dataframe\">\n",
       "  <thead>\n",
       "    <tr style=\"text-align: right;\">\n",
       "      <th></th>\n",
       "      <th>Age</th>\n",
       "      <th>Income</th>\n",
       "      <th>Number of Children</th>\n",
       "    </tr>\n",
       "  </thead>\n",
       "  <tbody>\n",
       "    <tr>\n",
       "      <th>count</th>\n",
       "      <td>102.000000</td>\n",
       "      <td>102.000000</td>\n",
       "      <td>102.000000</td>\n",
       "    </tr>\n",
       "    <tr>\n",
       "      <th>mean</th>\n",
       "      <td>38.950980</td>\n",
       "      <td>88308.823529</td>\n",
       "      <td>0.656863</td>\n",
       "    </tr>\n",
       "    <tr>\n",
       "      <th>std</th>\n",
       "      <td>8.709136</td>\n",
       "      <td>32417.071969</td>\n",
       "      <td>0.895479</td>\n",
       "    </tr>\n",
       "    <tr>\n",
       "      <th>min</th>\n",
       "      <td>25.000000</td>\n",
       "      <td>25000.000000</td>\n",
       "      <td>0.000000</td>\n",
       "    </tr>\n",
       "    <tr>\n",
       "      <th>25%</th>\n",
       "      <td>31.000000</td>\n",
       "      <td>65000.000000</td>\n",
       "      <td>0.000000</td>\n",
       "    </tr>\n",
       "    <tr>\n",
       "      <th>50%</th>\n",
       "      <td>39.000000</td>\n",
       "      <td>86250.000000</td>\n",
       "      <td>0.000000</td>\n",
       "    </tr>\n",
       "    <tr>\n",
       "      <th>75%</th>\n",
       "      <td>46.750000</td>\n",
       "      <td>110000.000000</td>\n",
       "      <td>1.000000</td>\n",
       "    </tr>\n",
       "    <tr>\n",
       "      <th>max</th>\n",
       "      <td>53.000000</td>\n",
       "      <td>162500.000000</td>\n",
       "      <td>3.000000</td>\n",
       "    </tr>\n",
       "  </tbody>\n",
       "</table>\n",
       "</div>"
      ],
      "text/plain": [
       "              Age         Income  Number of Children\n",
       "count  102.000000     102.000000          102.000000\n",
       "mean    38.950980   88308.823529            0.656863\n",
       "std      8.709136   32417.071969            0.895479\n",
       "min     25.000000   25000.000000            0.000000\n",
       "25%     31.000000   65000.000000            0.000000\n",
       "50%     39.000000   86250.000000            0.000000\n",
       "75%     46.750000  110000.000000            1.000000\n",
       "max     53.000000  162500.000000            3.000000"
      ]
     },
     "execution_count": 11,
     "metadata": {},
     "output_type": "execute_result"
    }
   ],
   "source": [
    "df.describe()"
   ]
  },
  {
   "cell_type": "code",
   "execution_count": 12,
   "id": "2a61bbe1",
   "metadata": {},
   "outputs": [
    {
     "data": {
      "text/plain": [
       "Index(['Gender', 'Education', 'Marital Status', 'Home Ownership',\n",
       "       'Credit Score'],\n",
       "      dtype='object')"
      ]
     },
     "execution_count": 12,
     "metadata": {},
     "output_type": "execute_result"
    }
   ],
   "source": [
    "df_obj = df.select_dtypes('object').columns\n",
    "df_obj"
   ]
  },
  {
   "cell_type": "code",
   "execution_count": 13,
   "id": "3a9b56ab",
   "metadata": {},
   "outputs": [],
   "source": [
    "from sklearn.preprocessing import LabelEncoder\n",
    "le = LabelEncoder()"
   ]
  },
  {
   "cell_type": "code",
   "execution_count": 14,
   "id": "1409a28c",
   "metadata": {},
   "outputs": [],
   "source": [
    "for i in df_obj:\n",
    "    le.fit(df[i])\n",
    "    df[i] = le.transform(df[i])"
   ]
  },
  {
   "cell_type": "code",
   "execution_count": 15,
   "id": "77769ede",
   "metadata": {},
   "outputs": [
    {
     "name": "stdout",
     "output_type": "stream",
     "text": [
      "<class 'pandas.core.frame.DataFrame'>\n",
      "Int64Index: 102 entries, 0 to 134\n",
      "Data columns (total 8 columns):\n",
      " #   Column              Non-Null Count  Dtype\n",
      "---  ------              --------------  -----\n",
      " 0   Age                 102 non-null    int64\n",
      " 1   Gender              102 non-null    int32\n",
      " 2   Income              102 non-null    int64\n",
      " 3   Education           102 non-null    int32\n",
      " 4   Marital Status      102 non-null    int32\n",
      " 5   Number of Children  102 non-null    int64\n",
      " 6   Home Ownership      102 non-null    int32\n",
      " 7   Credit Score        102 non-null    int32\n",
      "dtypes: int32(5), int64(3)\n",
      "memory usage: 5.2 KB\n"
     ]
    }
   ],
   "source": [
    "df.info()"
   ]
  },
  {
   "cell_type": "code",
   "execution_count": 16,
   "id": "5e32d521",
   "metadata": {},
   "outputs": [
    {
     "data": {
      "text/html": [
       "<div>\n",
       "<style scoped>\n",
       "    .dataframe tbody tr th:only-of-type {\n",
       "        vertical-align: middle;\n",
       "    }\n",
       "\n",
       "    .dataframe tbody tr th {\n",
       "        vertical-align: top;\n",
       "    }\n",
       "\n",
       "    .dataframe thead th {\n",
       "        text-align: right;\n",
       "    }\n",
       "</style>\n",
       "<table border=\"1\" class=\"dataframe\">\n",
       "  <thead>\n",
       "    <tr style=\"text-align: right;\">\n",
       "      <th></th>\n",
       "      <th>Age</th>\n",
       "      <th>Gender</th>\n",
       "      <th>Income</th>\n",
       "      <th>Education</th>\n",
       "      <th>Marital Status</th>\n",
       "      <th>Number of Children</th>\n",
       "      <th>Home Ownership</th>\n",
       "      <th>Credit Score</th>\n",
       "    </tr>\n",
       "  </thead>\n",
       "  <tbody>\n",
       "    <tr>\n",
       "      <th>0</th>\n",
       "      <td>25</td>\n",
       "      <td>0</td>\n",
       "      <td>50000</td>\n",
       "      <td>1</td>\n",
       "      <td>1</td>\n",
       "      <td>0</td>\n",
       "      <td>1</td>\n",
       "      <td>1</td>\n",
       "    </tr>\n",
       "    <tr>\n",
       "      <th>1</th>\n",
       "      <td>30</td>\n",
       "      <td>1</td>\n",
       "      <td>100000</td>\n",
       "      <td>4</td>\n",
       "      <td>0</td>\n",
       "      <td>2</td>\n",
       "      <td>0</td>\n",
       "      <td>1</td>\n",
       "    </tr>\n",
       "    <tr>\n",
       "      <th>2</th>\n",
       "      <td>35</td>\n",
       "      <td>0</td>\n",
       "      <td>75000</td>\n",
       "      <td>2</td>\n",
       "      <td>0</td>\n",
       "      <td>1</td>\n",
       "      <td>0</td>\n",
       "      <td>1</td>\n",
       "    </tr>\n",
       "    <tr>\n",
       "      <th>3</th>\n",
       "      <td>40</td>\n",
       "      <td>1</td>\n",
       "      <td>125000</td>\n",
       "      <td>3</td>\n",
       "      <td>1</td>\n",
       "      <td>0</td>\n",
       "      <td>0</td>\n",
       "      <td>1</td>\n",
       "    </tr>\n",
       "    <tr>\n",
       "      <th>4</th>\n",
       "      <td>45</td>\n",
       "      <td>0</td>\n",
       "      <td>100000</td>\n",
       "      <td>1</td>\n",
       "      <td>0</td>\n",
       "      <td>3</td>\n",
       "      <td>0</td>\n",
       "      <td>1</td>\n",
       "    </tr>\n",
       "  </tbody>\n",
       "</table>\n",
       "</div>"
      ],
      "text/plain": [
       "   Age  Gender  Income  Education  Marital Status  Number of Children  \\\n",
       "0   25       0   50000          1               1                   0   \n",
       "1   30       1  100000          4               0                   2   \n",
       "2   35       0   75000          2               0                   1   \n",
       "3   40       1  125000          3               1                   0   \n",
       "4   45       0  100000          1               0                   3   \n",
       "\n",
       "   Home Ownership  Credit Score  \n",
       "0               1             1  \n",
       "1               0             1  \n",
       "2               0             1  \n",
       "3               0             1  \n",
       "4               0             1  "
      ]
     },
     "execution_count": 16,
     "metadata": {},
     "output_type": "execute_result"
    }
   ],
   "source": [
    "df.head()"
   ]
  },
  {
   "cell_type": "code",
   "execution_count": 17,
   "id": "b2f831fc",
   "metadata": {},
   "outputs": [
    {
     "data": {
      "text/html": [
       "<div>\n",
       "<style scoped>\n",
       "    .dataframe tbody tr th:only-of-type {\n",
       "        vertical-align: middle;\n",
       "    }\n",
       "\n",
       "    .dataframe tbody tr th {\n",
       "        vertical-align: top;\n",
       "    }\n",
       "\n",
       "    .dataframe thead th {\n",
       "        text-align: right;\n",
       "    }\n",
       "</style>\n",
       "<table border=\"1\" class=\"dataframe\">\n",
       "  <thead>\n",
       "    <tr style=\"text-align: right;\">\n",
       "      <th></th>\n",
       "      <th>Age</th>\n",
       "      <th>Gender</th>\n",
       "      <th>Income</th>\n",
       "      <th>Education</th>\n",
       "      <th>Marital Status</th>\n",
       "      <th>Number of Children</th>\n",
       "      <th>Home Ownership</th>\n",
       "      <th>Credit Score</th>\n",
       "    </tr>\n",
       "  </thead>\n",
       "  <tbody>\n",
       "    <tr>\n",
       "      <th>count</th>\n",
       "      <td>102.000000</td>\n",
       "      <td>102.000000</td>\n",
       "      <td>102.000000</td>\n",
       "      <td>102.000000</td>\n",
       "      <td>102.000000</td>\n",
       "      <td>102.000000</td>\n",
       "      <td>102.000000</td>\n",
       "      <td>102.000000</td>\n",
       "    </tr>\n",
       "    <tr>\n",
       "      <th>mean</th>\n",
       "      <td>38.950980</td>\n",
       "      <td>0.490196</td>\n",
       "      <td>88308.823529</td>\n",
       "      <td>2.068627</td>\n",
       "      <td>0.431373</td>\n",
       "      <td>0.656863</td>\n",
       "      <td>0.284314</td>\n",
       "      <td>0.852941</td>\n",
       "    </tr>\n",
       "    <tr>\n",
       "      <th>std</th>\n",
       "      <td>8.709136</td>\n",
       "      <td>0.502373</td>\n",
       "      <td>32417.071969</td>\n",
       "      <td>1.380628</td>\n",
       "      <td>0.497714</td>\n",
       "      <td>0.895479</td>\n",
       "      <td>0.453315</td>\n",
       "      <td>0.495466</td>\n",
       "    </tr>\n",
       "    <tr>\n",
       "      <th>min</th>\n",
       "      <td>25.000000</td>\n",
       "      <td>0.000000</td>\n",
       "      <td>25000.000000</td>\n",
       "      <td>0.000000</td>\n",
       "      <td>0.000000</td>\n",
       "      <td>0.000000</td>\n",
       "      <td>0.000000</td>\n",
       "      <td>0.000000</td>\n",
       "    </tr>\n",
       "    <tr>\n",
       "      <th>25%</th>\n",
       "      <td>31.000000</td>\n",
       "      <td>0.000000</td>\n",
       "      <td>65000.000000</td>\n",
       "      <td>1.000000</td>\n",
       "      <td>0.000000</td>\n",
       "      <td>0.000000</td>\n",
       "      <td>0.000000</td>\n",
       "      <td>1.000000</td>\n",
       "    </tr>\n",
       "    <tr>\n",
       "      <th>50%</th>\n",
       "      <td>39.000000</td>\n",
       "      <td>0.000000</td>\n",
       "      <td>86250.000000</td>\n",
       "      <td>2.000000</td>\n",
       "      <td>0.000000</td>\n",
       "      <td>0.000000</td>\n",
       "      <td>0.000000</td>\n",
       "      <td>1.000000</td>\n",
       "    </tr>\n",
       "    <tr>\n",
       "      <th>75%</th>\n",
       "      <td>46.750000</td>\n",
       "      <td>1.000000</td>\n",
       "      <td>110000.000000</td>\n",
       "      <td>3.000000</td>\n",
       "      <td>1.000000</td>\n",
       "      <td>1.000000</td>\n",
       "      <td>1.000000</td>\n",
       "      <td>1.000000</td>\n",
       "    </tr>\n",
       "    <tr>\n",
       "      <th>max</th>\n",
       "      <td>53.000000</td>\n",
       "      <td>1.000000</td>\n",
       "      <td>162500.000000</td>\n",
       "      <td>4.000000</td>\n",
       "      <td>1.000000</td>\n",
       "      <td>3.000000</td>\n",
       "      <td>1.000000</td>\n",
       "      <td>2.000000</td>\n",
       "    </tr>\n",
       "  </tbody>\n",
       "</table>\n",
       "</div>"
      ],
      "text/plain": [
       "              Age      Gender         Income   Education  Marital Status  \\\n",
       "count  102.000000  102.000000     102.000000  102.000000      102.000000   \n",
       "mean    38.950980    0.490196   88308.823529    2.068627        0.431373   \n",
       "std      8.709136    0.502373   32417.071969    1.380628        0.497714   \n",
       "min     25.000000    0.000000   25000.000000    0.000000        0.000000   \n",
       "25%     31.000000    0.000000   65000.000000    1.000000        0.000000   \n",
       "50%     39.000000    0.000000   86250.000000    2.000000        0.000000   \n",
       "75%     46.750000    1.000000  110000.000000    3.000000        1.000000   \n",
       "max     53.000000    1.000000  162500.000000    4.000000        1.000000   \n",
       "\n",
       "       Number of Children  Home Ownership  Credit Score  \n",
       "count          102.000000      102.000000    102.000000  \n",
       "mean             0.656863        0.284314      0.852941  \n",
       "std              0.895479        0.453315      0.495466  \n",
       "min              0.000000        0.000000      0.000000  \n",
       "25%              0.000000        0.000000      1.000000  \n",
       "50%              0.000000        0.000000      1.000000  \n",
       "75%              1.000000        1.000000      1.000000  \n",
       "max              3.000000        1.000000      2.000000  "
      ]
     },
     "execution_count": 17,
     "metadata": {},
     "output_type": "execute_result"
    }
   ],
   "source": [
    "df.describe()"
   ]
  },
  {
   "cell_type": "code",
   "execution_count": 18,
   "id": "0a60ec69",
   "metadata": {},
   "outputs": [],
   "source": [
    "list_f = df.columns\n",
    "list_n = len(list_f)"
   ]
  },
  {
   "cell_type": "code",
   "execution_count": 19,
   "id": "a241708f",
   "metadata": {},
   "outputs": [
    {
     "data": {
      "image/png": "[encoded data removed]",
      "text/plain": [
       "<Figure size 1080x576 with 8 Axes>"
      ]
     },
     "metadata": {
      "needs_background": "light"
     },
     "output_type": "display_data"
    }
   ],
   "source": [
    "plt.figure(figsize=(15,8))\n",
    "for i in range(list_n):\n",
    "    plt.subplot(3,3,i+1)\n",
    "    sns.boxplot(x=df[list_f[i]], data=df)\n",
    "    plt.title('Boxplot of {}'.format(list_f[i]))\n",
    "    i = i+1\n",
    "    plt.tight_layout()"
   ]
  },
  {
   "cell_type": "code",
   "execution_count": 20,
   "id": "a73f0b16",
   "metadata": {},
   "outputs": [
    {
     "data": {
      "text/plain": [
       "array([0, 2, 1, 3], dtype=int64)"
      ]
     },
     "execution_count": 20,
     "metadata": {},
     "output_type": "execute_result"
    }
   ],
   "source": [
    "df['Number of Children'].unique()"
   ]
  },
  {
   "cell_type": "code",
   "execution_count": 21,
   "id": "5fb7f7ff",
   "metadata": {},
   "outputs": [
    {
     "data": {
      "text/plain": [
       "<seaborn.axisgrid.PairGrid at 0x252129124c0>"
      ]
     },
     "execution_count": 21,
     "metadata": {},
     "output_type": "execute_result"
    },
    {
     "data": {
      "image/png": "[encoded data removed]",
      "text/plain": [
       "<Figure size 1328.88x1260 with 56 Axes>"
      ]
     },
     "metadata": {
      "needs_background": "light"
     },
     "output_type": "display_data"
    }
   ],
   "source": [
    "sns.pairplot(df,hue='Credit Score',palette='coolwarm')"
   ]
  },
  {
   "cell_type": "code",
   "execution_count": 22,
   "id": "70632fd3",
   "metadata": {},
   "outputs": [],
   "source": [
    "from sklearn.preprocessing import StandardScaler"
   ]
  },
  {
   "cell_type": "code",
   "execution_count": 23,
   "id": "cfa45682",
   "metadata": {},
   "outputs": [
    {
     "data": {
      "text/html": [
       "<div>\n",
       "<style scoped>\n",
       "    .dataframe tbody tr th:only-of-type {\n",
       "        vertical-align: middle;\n",
       "    }\n",
       "\n",
       "    .dataframe tbody tr th {\n",
       "        vertical-align: top;\n",
       "    }\n",
       "\n",
       "    .dataframe thead th {\n",
       "        text-align: right;\n",
       "    }\n",
       "</style>\n",
       "<table border=\"1\" class=\"dataframe\">\n",
       "  <thead>\n",
       "    <tr style=\"text-align: right;\">\n",
       "      <th></th>\n",
       "      <th>Age</th>\n",
       "      <th>Gender</th>\n",
       "      <th>Income</th>\n",
       "      <th>Education</th>\n",
       "      <th>Marital Status</th>\n",
       "      <th>Number of Children</th>\n",
       "      <th>Home Ownership</th>\n",
       "      <th>Credit Score</th>\n",
       "    </tr>\n",
       "  </thead>\n",
       "  <tbody>\n",
       "    <tr>\n",
       "      <th>Age</th>\n",
       "      <td>1.000000</td>\n",
       "      <td>0.254473</td>\n",
       "      <td>0.731797</td>\n",
       "      <td>0.176497</td>\n",
       "      <td>-0.536416</td>\n",
       "      <td>0.019404</td>\n",
       "      <td>-0.716192</td>\n",
       "      <td>0.328722</td>\n",
       "    </tr>\n",
       "    <tr>\n",
       "      <th>Gender</th>\n",
       "      <td>0.254473</td>\n",
       "      <td>1.000000</td>\n",
       "      <td>0.518022</td>\n",
       "      <td>0.222242</td>\n",
       "      <td>0.294267</td>\n",
       "      <td>-0.524760</td>\n",
       "      <td>-0.009377</td>\n",
       "      <td>-0.145071</td>\n",
       "    </tr>\n",
       "    <tr>\n",
       "      <th>Income</th>\n",
       "      <td>0.731797</td>\n",
       "      <td>0.518022</td>\n",
       "      <td>1.000000</td>\n",
       "      <td>0.341973</td>\n",
       "      <td>-0.440659</td>\n",
       "      <td>-0.009786</td>\n",
       "      <td>-0.657560</td>\n",
       "      <td>0.201349</td>\n",
       "    </tr>\n",
       "    <tr>\n",
       "      <th>Education</th>\n",
       "      <td>0.176497</td>\n",
       "      <td>0.222242</td>\n",
       "      <td>0.341973</td>\n",
       "      <td>1.000000</td>\n",
       "      <td>-0.057917</td>\n",
       "      <td>0.027244</td>\n",
       "      <td>-0.395341</td>\n",
       "      <td>0.362275</td>\n",
       "    </tr>\n",
       "    <tr>\n",
       "      <th>Marital Status</th>\n",
       "      <td>-0.536416</td>\n",
       "      <td>0.294267</td>\n",
       "      <td>-0.440659</td>\n",
       "      <td>-0.057917</td>\n",
       "      <td>1.000000</td>\n",
       "      <td>-0.642053</td>\n",
       "      <td>0.679761</td>\n",
       "      <td>-0.262156</td>\n",
       "    </tr>\n",
       "    <tr>\n",
       "      <th>Number of Children</th>\n",
       "      <td>0.019404</td>\n",
       "      <td>-0.524760</td>\n",
       "      <td>-0.009786</td>\n",
       "      <td>0.027244</td>\n",
       "      <td>-0.642053</td>\n",
       "      <td>1.000000</td>\n",
       "      <td>-0.440227</td>\n",
       "      <td>0.152928</td>\n",
       "    </tr>\n",
       "    <tr>\n",
       "      <th>Home Ownership</th>\n",
       "      <td>-0.716192</td>\n",
       "      <td>-0.009377</td>\n",
       "      <td>-0.657560</td>\n",
       "      <td>-0.395341</td>\n",
       "      <td>0.679761</td>\n",
       "      <td>-0.440227</td>\n",
       "      <td>1.000000</td>\n",
       "      <td>-0.385073</td>\n",
       "    </tr>\n",
       "    <tr>\n",
       "      <th>Credit Score</th>\n",
       "      <td>0.328722</td>\n",
       "      <td>-0.145071</td>\n",
       "      <td>0.201349</td>\n",
       "      <td>0.362275</td>\n",
       "      <td>-0.262156</td>\n",
       "      <td>0.152928</td>\n",
       "      <td>-0.385073</td>\n",
       "      <td>1.000000</td>\n",
       "    </tr>\n",
       "  </tbody>\n",
       "</table>\n",
       "</div>"
      ],
      "text/plain": [
       "                         Age    Gender    Income  Education  Marital Status  \\\n",
       "Age                 1.000000  0.254473  0.731797   0.176497       -0.536416   \n",
       "Gender              0.254473  1.000000  0.518022   0.222242        0.294267   \n",
       "Income              0.731797  0.518022  1.000000   0.341973       -0.440659   \n",
       "Education           0.176497  0.222242  0.341973   1.000000       -0.057917   \n",
       "Marital Status     -0.536416  0.294267 -0.440659  -0.057917        1.000000   \n",
       "Number of Children  0.019404 -0.524760 -0.009786   0.027244       -0.642053   \n",
       "Home Ownership     -0.716192 -0.009377 -0.657560  -0.395341        0.679761   \n",
       "Credit Score        0.328722 -0.145071  0.201349   0.362275       -0.262156   \n",
       "\n",
       "                    Number of Children  Home Ownership  Credit Score  \n",
       "Age                           0.019404       -0.716192      0.328722  \n",
       "Gender                       -0.524760       -0.009377     -0.145071  \n",
       "Income                       -0.009786       -0.657560      0.201349  \n",
       "Education                     0.027244       -0.395341      0.362275  \n",
       "Marital Status               -0.642053        0.679761     -0.262156  \n",
       "Number of Children            1.000000       -0.440227      0.152928  \n",
       "Home Ownership               -0.440227        1.000000     -0.385073  \n",
       "Credit Score                  0.152928       -0.385073      1.000000  "
      ]
     },
     "execution_count": 23,
     "metadata": {},
     "output_type": "execute_result"
    }
   ],
   "source": [
    "df.corr()"
   ]
  },
  {
   "cell_type": "code",
   "execution_count": 24,
   "id": "f2227f2d",
   "metadata": {},
   "outputs": [
    {
     "data": {
      "text/plain": [
       "<AxesSubplot:>"
      ]
     },
     "execution_count": 24,
     "metadata": {},
     "output_type": "execute_result"
    },
    {
     "data": {
      "image/png": "[encoded data removed]",
      "text/plain": [
       "<Figure size 720x576 with 2 Axes>"
      ]
     },
     "metadata": {
      "needs_background": "light"
     },
     "output_type": "display_data"
    }
   ],
   "source": [
    "plt.figure(figsize=(10,8))\n",
    "sns.heatmap(df.corr(), annot=True)"
   ]
  },
  {
   "cell_type": "code",
   "execution_count": 25,
   "id": "cda08fd0",
   "metadata": {},
   "outputs": [],
   "source": [
    "from sklearn.model_selection import train_test_split"
   ]
  },
  {
   "cell_type": "code",
   "execution_count": 26,
   "id": "577e043b",
   "metadata": {},
   "outputs": [],
   "source": [
    "X = df.drop('Credit Score', axis=1)\n",
    "y = df['Credit Score']"
   ]
  },
  {
   "cell_type": "code",
   "execution_count": 27,
   "id": "c2f9e35c",
   "metadata": {},
   "outputs": [],
   "source": [
    "scaler = StandardScaler()"
   ]
  },
  {
   "cell_type": "code",
   "execution_count": 28,
   "id": "581bdda7",
   "metadata": {},
   "outputs": [
    {
     "data": {
      "text/plain": [
       "StandardScaler()"
      ]
     },
     "execution_count": 28,
     "metadata": {},
     "output_type": "execute_result"
    }
   ],
   "source": [
    "scaler.fit(X)"
   ]
  },
  {
   "cell_type": "code",
   "execution_count": 29,
   "id": "9cbaaebd",
   "metadata": {},
   "outputs": [],
   "source": [
    "X = scaler.transform(X)"
   ]
  },
  {
   "cell_type": "code",
   "execution_count": 30,
   "id": "393719c9",
   "metadata": {},
   "outputs": [
    {
     "data": {
      "text/plain": [
       "array([[-1.60978928, -0.98058068, -1.18758425, -0.77783759,  1.14812099,\n",
       "        -0.73715445,  1.58658166],\n",
       "       [-1.03284442,  1.0198039 ,  0.36242974,  1.40581656, -0.87098834,\n",
       "         1.50731582, -0.63028587],\n",
       "       [-0.45589956, -0.98058068, -0.41257725, -0.04995287, -0.87098834,\n",
       "         0.38508068, -0.63028587],\n",
       "       [ 0.12104529,  1.0198039 ,  1.13743674,  0.67793185,  1.14812099,\n",
       "        -0.73715445, -0.63028587],\n",
       "       [ 0.69799015, -0.98058068,  0.36242974, -0.77783759, -0.87098834,\n",
       "         2.62955095, -0.63028587],\n",
       "       [ 1.27493501,  1.0198039 ,  1.91244373,  1.40581656, -0.87098834,\n",
       "        -0.73715445, -0.63028587],\n",
       "       [-1.49440031, -0.98058068, -1.49758705, -1.50572231,  1.14812099,\n",
       "        -0.73715445,  1.58658166],\n",
       "       [-0.91745545,  1.0198039 , -0.87758145, -0.77783759,  1.14812099,\n",
       "        -0.73715445,  1.58658166],\n",
       "       [-0.34051059, -0.98058068, -0.25757585,  1.40581656, -0.87098834,\n",
       "         1.50731582, -0.63028587],\n",
       "       [ 0.23643426,  1.0198039 ,  0.51743114, -0.04995287,  1.14812099,\n",
       "        -0.73715445, -0.63028587],\n",
       "       [ 0.81337912, -0.98058068,  0.05242694,  0.67793185, -0.87098834,\n",
       "         0.38508068, -0.63028587],\n",
       "       [ 1.39032398,  1.0198039 ,  1.44743954, -0.77783759, -0.87098834,\n",
       "        -0.73715445, -0.63028587],\n",
       "       [-1.37901133, -0.98058068, -1.65258845,  0.67793185,  1.14812099,\n",
       "        -0.73715445,  1.58658166],\n",
       "       [-0.80206648,  1.0198039 , -1.03258285, -1.50572231,  1.14812099,\n",
       "        -0.73715445,  1.58658166],\n",
       "       [-0.22512162, -0.98058068, -0.56757865, -0.77783759, -0.87098834,\n",
       "         1.50731582, -0.63028587],\n",
       "       [ 0.35182324,  1.0198039 ,  0.20742834,  1.40581656,  1.14812099,\n",
       "        -0.73715445, -0.63028587],\n",
       "       [ 0.92876809, -0.98058068, -0.10257446, -0.04995287, -0.87098834,\n",
       "         0.38508068, -0.63028587],\n",
       "       [ 1.50571295,  1.0198039 ,  1.13743674,  0.67793185, -0.87098834,\n",
       "        -0.73715445, -0.63028587],\n",
       "       [-1.26362236, -0.98058068, -1.80758984, -1.50572231,  1.14812099,\n",
       "        -0.73715445,  1.58658166],\n",
       "       [-0.68667751,  1.0198039 , -1.18758425,  0.67793185,  1.14812099,\n",
       "        -0.73715445,  1.58658166],\n",
       "       [-0.10973265, -0.98058068, -0.72258005, -0.77783759, -0.87098834,\n",
       "         1.50731582, -0.63028587],\n",
       "       [ 0.46721221,  1.0198039 , -0.25757585,  1.40581656,  1.14812099,\n",
       "        -0.73715445, -0.63028587],\n",
       "       [ 1.04415706, -0.98058068, -0.56757865, -0.04995287, -0.87098834,\n",
       "         0.38508068, -0.63028587],\n",
       "       [ 1.62110192,  1.0198039 ,  0.82743394, -1.50572231, -0.87098834,\n",
       "        -0.73715445, -0.63028587],\n",
       "       [-1.14823339, -0.98058068, -1.96259124,  0.67793185,  1.14812099,\n",
       "        -0.73715445,  1.58658166],\n",
       "       [-0.57128853,  1.0198039 , -1.34258565, -1.50572231,  1.14812099,\n",
       "        -0.73715445,  1.58658166],\n",
       "       [ 0.00565632, -0.98058068, -0.87758145, -0.77783759, -0.87098834,\n",
       "         1.50731582, -0.63028587],\n",
       "       [ 0.58260118,  1.0198039 , -0.41257725,  1.40581656,  1.14812099,\n",
       "        -0.73715445, -0.63028587],\n",
       "       [ 1.15954604, -0.98058068, -0.72258005, -0.04995287, -0.87098834,\n",
       "         0.38508068, -0.63028587],\n",
       "       [-1.60978928, -0.98058068, -1.03258285, -0.77783759,  1.14812099,\n",
       "        -0.73715445,  1.58658166],\n",
       "       [-1.03284442,  1.0198039 ,  0.51743114,  1.40581656, -0.87098834,\n",
       "         1.50731582, -0.63028587],\n",
       "       [-0.45589956, -0.98058068, -0.25757585, -0.04995287, -0.87098834,\n",
       "         0.38508068, -0.63028587],\n",
       "       [ 0.12104529,  1.0198039 ,  1.29243814,  0.67793185,  1.14812099,\n",
       "        -0.73715445, -0.63028587],\n",
       "       [ 0.69799015, -0.98058068,  0.51743114, -0.77783759, -0.87098834,\n",
       "         2.62955095, -0.63028587],\n",
       "       [ 1.27493501,  1.0198039 ,  2.06744513,  1.40581656, -0.87098834,\n",
       "        -0.73715445, -0.63028587],\n",
       "       [-1.49440031, -0.98058068, -1.34258565, -1.50572231,  1.14812099,\n",
       "        -0.73715445,  1.58658166],\n",
       "       [-0.91745545,  1.0198039 , -0.72258005, -0.77783759,  1.14812099,\n",
       "        -0.73715445,  1.58658166],\n",
       "       [-0.34051059, -0.98058068, -0.10257446,  1.40581656, -0.87098834,\n",
       "         1.50731582, -0.63028587],\n",
       "       [ 0.23643426,  1.0198039 ,  0.67243254, -0.04995287,  1.14812099,\n",
       "        -0.73715445, -0.63028587],\n",
       "       [ 0.81337912, -0.98058068,  0.20742834,  0.67793185, -0.87098834,\n",
       "         0.38508068, -0.63028587],\n",
       "       [ 1.39032398,  1.0198039 ,  1.60244093, -0.77783759, -0.87098834,\n",
       "        -0.73715445, -0.63028587],\n",
       "       [-1.37901133, -0.98058068, -1.57508775,  0.67793185,  1.14812099,\n",
       "        -0.73715445,  1.58658166],\n",
       "       [-0.80206648,  1.0198039 , -0.95508215, -1.50572231,  1.14812099,\n",
       "        -0.73715445,  1.58658166],\n",
       "       [-0.22512162, -0.98058068, -0.49007795, -0.77783759, -0.87098834,\n",
       "         1.50731582, -0.63028587],\n",
       "       [ 0.35182324,  1.0198039 ,  0.36242974,  1.40581656,  1.14812099,\n",
       "        -0.73715445, -0.63028587],\n",
       "       [ 0.92876809, -0.98058068,  0.05242694, -0.04995287, -0.87098834,\n",
       "         0.38508068, -0.63028587],\n",
       "       [ 1.50571295,  1.0198039 ,  1.29243814,  0.67793185, -0.87098834,\n",
       "        -0.73715445, -0.63028587],\n",
       "       [-1.26362236, -0.98058068, -1.73008915, -1.50572231,  1.14812099,\n",
       "        -0.73715445,  1.58658166],\n",
       "       [-0.68667751,  1.0198039 , -1.11008355,  0.67793185,  1.14812099,\n",
       "        -0.73715445,  1.58658166],\n",
       "       [-0.10973265, -0.98058068, -0.64507935, -0.77783759, -0.87098834,\n",
       "         1.50731582, -0.63028587],\n",
       "       [ 0.46721221,  1.0198039 ,  0.12992764,  1.40581656,  1.14812099,\n",
       "        -0.73715445, -0.63028587],\n",
       "       [ 1.04415706, -0.98058068, -0.18007515, -0.04995287, -0.87098834,\n",
       "         0.38508068, -0.63028587],\n",
       "       [ 1.62110192,  1.0198039 ,  1.05993604, -1.50572231, -0.87098834,\n",
       "        -0.73715445, -0.63028587],\n",
       "       [-1.14823339, -0.98058068, -1.88509054,  0.67793185,  1.14812099,\n",
       "        -0.73715445,  1.58658166],\n",
       "       [-0.57128853,  1.0198039 , -1.26508495, -1.50572231,  1.14812099,\n",
       "        -0.73715445,  1.58658166],\n",
       "       [ 0.00565632, -0.98058068, -0.80008075, -0.77783759, -0.87098834,\n",
       "         1.50731582, -0.63028587],\n",
       "       [ 0.58260118,  1.0198039 , -0.02507376,  1.40581656,  1.14812099,\n",
       "        -0.73715445, -0.63028587],\n",
       "       [ 1.15954604, -0.98058068, -0.33507655, -0.04995287, -0.87098834,\n",
       "         0.38508068, -0.63028587],\n",
       "       [-1.60978928, -0.98058068, -0.95508215, -0.77783759,  1.14812099,\n",
       "        -0.73715445,  1.58658166],\n",
       "       [-1.03284442,  1.0198039 ,  0.74993324,  1.40581656, -0.87098834,\n",
       "         1.50731582, -0.63028587],\n",
       "       [-0.45589956, -0.98058068, -0.10257446, -0.04995287, -0.87098834,\n",
       "         0.38508068, -0.63028587],\n",
       "       [-1.60978928, -0.98058068, -0.87758145, -0.77783759,  1.14812099,\n",
       "        -0.73715445,  1.58658166],\n",
       "       [-1.03284442,  1.0198039 ,  0.90493464,  1.40581656, -0.87098834,\n",
       "         1.50731582, -0.63028587],\n",
       "       [-0.45589956, -0.98058068,  0.05242694, -0.04995287, -0.87098834,\n",
       "         0.38508068, -0.63028587],\n",
       "       [ 0.12104529,  1.0198039 ,  1.67994163,  0.67793185,  1.14812099,\n",
       "        -0.73715445, -0.63028587],\n",
       "       [ 0.69799015, -0.98058068,  0.67243254, -0.77783759, -0.87098834,\n",
       "         2.62955095, -0.63028587],\n",
       "       [ 1.27493501,  1.0198039 ,  2.22244653,  1.40581656, -0.87098834,\n",
       "        -0.73715445, -0.63028587],\n",
       "       [-1.49440031, -0.98058068, -1.26508495, -1.50572231,  1.14812099,\n",
       "        -0.73715445,  1.58658166],\n",
       "       [-0.91745545,  1.0198039 , -0.64507935, -0.77783759,  1.14812099,\n",
       "        -0.73715445,  1.58658166],\n",
       "       [-0.34051059, -0.98058068,  0.05242694,  1.40581656, -0.87098834,\n",
       "         1.50731582, -0.63028587],\n",
       "       [ 0.23643426,  1.0198039 ,  0.82743394, -0.04995287,  1.14812099,\n",
       "        -0.73715445, -0.63028587],\n",
       "       [ 0.81337912, -0.98058068,  0.28492904,  0.67793185, -0.87098834,\n",
       "         0.38508068, -0.63028587],\n",
       "       [ 1.39032398,  1.0198039 ,  1.75744233, -0.77783759, -0.87098834,\n",
       "        -0.73715445, -0.63028587],\n",
       "       [-0.22512162, -0.98058068, -0.41257725, -0.77783759, -0.87098834,\n",
       "         1.50731582, -0.63028587],\n",
       "       [ 0.35182324,  1.0198039 ,  0.51743114,  1.40581656,  1.14812099,\n",
       "        -0.73715445, -0.63028587],\n",
       "       [ 0.92876809, -0.98058068,  0.20742834, -0.04995287, -0.87098834,\n",
       "         0.38508068, -0.63028587],\n",
       "       [ 1.50571295,  1.0198039 ,  1.44743954,  0.67793185, -0.87098834,\n",
       "        -0.73715445, -0.63028587],\n",
       "       [ 1.04415706, -0.98058068, -0.10257446, -0.04995287, -0.87098834,\n",
       "         0.38508068, -0.63028587],\n",
       "       [ 1.62110192,  1.0198039 ,  1.13743674, -1.50572231, -0.87098834,\n",
       "        -0.73715445, -0.63028587],\n",
       "       [-1.60978928, -0.98058068, -0.80008075, -0.77783759,  1.14812099,\n",
       "        -0.73715445,  1.58658166],\n",
       "       [ 0.69799015, -0.98058068,  0.82743394, -0.77783759, -0.87098834,\n",
       "         2.62955095, -0.63028587],\n",
       "       [ 1.27493501,  1.0198039 ,  2.29994723,  1.40581656, -0.87098834,\n",
       "        -0.73715445, -0.63028587],\n",
       "       [-1.49440031, -0.98058068, -1.18758425, -1.50572231,  1.14812099,\n",
       "        -0.73715445,  1.58658166],\n",
       "       [-0.91745545,  1.0198039 , -0.56757865, -0.77783759,  1.14812099,\n",
       "        -0.73715445,  1.58658166],\n",
       "       [-0.34051059, -0.98058068,  0.20742834,  1.40581656, -0.87098834,\n",
       "         1.50731582, -0.63028587],\n",
       "       [ 0.23643426,  1.0198039 ,  0.98243534, -0.04995287,  1.14812099,\n",
       "        -0.73715445, -0.63028587],\n",
       "       [ 0.81337912, -0.98058068,  0.43993044,  0.67793185, -0.87098834,\n",
       "         0.38508068, -0.63028587],\n",
       "       [ 1.39032398,  1.0198039 ,  1.91244373, -0.77783759, -0.87098834,\n",
       "        -0.73715445, -0.63028587],\n",
       "       [-0.22512162, -0.98058068, -0.33507655, -0.77783759, -0.87098834,\n",
       "         1.50731582, -0.63028587],\n",
       "       [ 0.35182324,  1.0198039 ,  0.67243254,  1.40581656,  1.14812099,\n",
       "        -0.73715445, -0.63028587],\n",
       "       [ 0.92876809, -0.98058068,  0.28492904, -0.04995287, -0.87098834,\n",
       "         0.38508068, -0.63028587],\n",
       "       [ 1.50571295,  1.0198039 ,  1.52494023,  0.67793185, -0.87098834,\n",
       "        -0.73715445, -0.63028587],\n",
       "       [ 0.46721221,  1.0198039 ,  0.20742834,  1.40581656,  1.14812099,\n",
       "        -0.73715445, -0.63028587],\n",
       "       [ 1.04415706, -0.98058068, -0.02507376, -0.04995287, -0.87098834,\n",
       "         0.38508068, -0.63028587],\n",
       "       [ 1.62110192,  1.0198039 ,  1.21493744, -1.50572231, -0.87098834,\n",
       "        -0.73715445, -0.63028587],\n",
       "       [-1.26362236,  1.0198039 , -0.41257725, -0.77783759,  1.14812099,\n",
       "        -0.73715445,  1.58658166],\n",
       "       [-0.68667751, -0.98058068, -0.19557529,  1.40581656, -0.87098834,\n",
       "         0.38508068, -0.63028587],\n",
       "       [-0.91745545,  1.0198039 ,  0.20742834, -0.04995287,  1.14812099,\n",
       "        -0.73715445,  1.58658166],\n",
       "       [-1.49440031, -0.98058068, -1.03258285, -0.77783759, -0.87098834,\n",
       "         0.38508068, -0.63028587],\n",
       "       [-0.80206648,  1.0198039 , -0.10257446,  1.40581656,  1.14812099,\n",
       "        -0.73715445,  1.58658166],\n",
       "       [-1.14823339, -0.98058068, -0.62957921, -0.04995287, -0.87098834,\n",
       "         1.50731582, -0.63028587],\n",
       "       [-0.57128853,  1.0198039 ,  0.51743114, -0.77783759, -0.87098834,\n",
       "         0.38508068,  1.58658166]])"
      ]
     },
     "execution_count": 30,
     "metadata": {},
     "output_type": "execute_result"
    }
   ],
   "source": [
    "X"
   ]
  },
  {
   "cell_type": "code",
   "execution_count": 31,
   "id": "80d05cf9",
   "metadata": {},
   "outputs": [],
   "source": [
    "X_train, X_test, y_train, y_test = train_test_split(X,y, test_size=0.3, random_state=42)"
   ]
  },
  {
   "cell_type": "code",
   "execution_count": 32,
   "id": "f153e3e2",
   "metadata": {},
   "outputs": [],
   "source": [
    "from sklearn.neighbors import KNeighborsClassifier"
   ]
  },
  {
   "cell_type": "code",
   "execution_count": 33,
   "id": "a4c1d552",
   "metadata": {},
   "outputs": [],
   "source": [
    "KNN = KNeighborsClassifier()"
   ]
  },
  {
   "cell_type": "code",
   "execution_count": 34,
   "id": "0487c215",
   "metadata": {},
   "outputs": [
    {
     "data": {
      "text/plain": [
       "KNeighborsClassifier()"
      ]
     },
     "execution_count": 34,
     "metadata": {},
     "output_type": "execute_result"
    }
   ],
   "source": [
    "KNN.fit(X_train, y_train)"
   ]
  },
  {
   "cell_type": "code",
   "execution_count": 35,
   "id": "120179bd",
   "metadata": {},
   "outputs": [],
   "source": [
    "y_pred = KNN.predict(X_test)"
   ]
  },
  {
   "cell_type": "code",
   "execution_count": 36,
   "id": "df312997",
   "metadata": {},
   "outputs": [
    {
     "data": {
      "text/plain": [
       "array([1, 0, 1, 0, 0, 1, 1, 1, 1, 0, 0, 1, 0, 1, 1, 1, 0, 1, 0, 1, 1, 0,\n",
       "       1, 0, 1, 1, 1, 1, 1, 1, 1])"
      ]
     },
     "execution_count": 36,
     "metadata": {},
     "output_type": "execute_result"
    }
   ],
   "source": [
    "y_pred"
   ]
  },
  {
   "cell_type": "code",
   "execution_count": 37,
   "id": "80e1cfbd",
   "metadata": {},
   "outputs": [],
   "source": [
    "from sklearn.metrics import classification_report, accuracy_score"
   ]
  },
  {
   "cell_type": "code",
   "execution_count": 38,
   "id": "ffef4ff5",
   "metadata": {},
   "outputs": [
    {
     "name": "stdout",
     "output_type": "stream",
     "text": [
      "              precision    recall  f1-score   support\n",
      "\n",
      "           0       0.40      0.67      0.50         6\n",
      "           1       0.90      0.90      0.90        21\n",
      "           2       0.00      0.00      0.00         4\n",
      "\n",
      "    accuracy                           0.74        31\n",
      "   macro avg       0.43      0.52      0.47        31\n",
      "weighted avg       0.69      0.74      0.71        31\n",
      "\n"
     ]
    },
    {
     "name": "stderr",
     "output_type": "stream",
     "text": [
      "C:\\Users\\DELL\\anaconda3\\lib\\site-packages\\sklearn\\metrics\\_classification.py:1318: UndefinedMetricWarning: Precision and F-score are ill-defined and being set to 0.0 in labels with no predicted samples. Use `zero_division` parameter to control this behavior.\n",
      "  _warn_prf(average, modifier, msg_start, len(result))\n",
      "C:\\Users\\DELL\\anaconda3\\lib\\site-packages\\sklearn\\metrics\\_classification.py:1318: UndefinedMetricWarning: Precision and F-score are ill-defined and being set to 0.0 in labels with no predicted samples. Use `zero_division` parameter to control this behavior.\n",
      "  _warn_prf(average, modifier, msg_start, len(result))\n",
      "C:\\Users\\DELL\\anaconda3\\lib\\site-packages\\sklearn\\metrics\\_classification.py:1318: UndefinedMetricWarning: Precision and F-score are ill-defined and being set to 0.0 in labels with no predicted samples. Use `zero_division` parameter to control this behavior.\n",
      "  _warn_prf(average, modifier, msg_start, len(result))\n"
     ]
    }
   ],
   "source": [
    "print(classification_report(y_test, y_pred))"
   ]
  },
  {
   "cell_type": "code",
   "execution_count": 39,
   "id": "2d789784",
   "metadata": {},
   "outputs": [
    {
     "data": {
      "text/plain": [
       "0.7419354838709677"
      ]
     },
     "execution_count": 39,
     "metadata": {},
     "output_type": "execute_result"
    }
   ],
   "source": [
    "accuracy_score(y_test, y_pred)"
   ]
  },
  {
   "cell_type": "code",
   "execution_count": 40,
   "id": "b8931350",
   "metadata": {},
   "outputs": [
    {
     "data": {
      "text/plain": [
       "1    75\n",
       "0    21\n",
       "2     6\n",
       "Name: Credit Score, dtype: int64"
      ]
     },
     "execution_count": 40,
     "metadata": {},
     "output_type": "execute_result"
    }
   ],
   "source": [
    "df['Credit Score'].value_counts()"
   ]
  },
  {
   "cell_type": "code",
   "execution_count": 41,
   "id": "1abb990a",
   "metadata": {},
   "outputs": [
    {
     "data": {
      "text/plain": [
       "KNeighborsClassifier(n_neighbors=3)"
      ]
     },
     "execution_count": 41,
     "metadata": {},
     "output_type": "execute_result"
    }
   ],
   "source": [
    "KNN3 = KNeighborsClassifier(n_neighbors=3)\n",
    "KNN3.fit(X_train, y_train)"
   ]
  },
  {
   "cell_type": "code",
   "execution_count": 42,
   "id": "dc897570",
   "metadata": {},
   "outputs": [],
   "source": [
    "y_pred3 = KNN3.predict(X_test)"
   ]
  },
  {
   "cell_type": "code",
   "execution_count": 61,
   "id": "17c2a566",
   "metadata": {},
   "outputs": [
    {
     "data": {
      "text/plain": [
       "0.8064516129032258"
      ]
     },
     "execution_count": 61,
     "metadata": {},
     "output_type": "execute_result"
    }
   ],
   "source": [
    "Acc_KNN = accuracy_score(y_test, y_pred3)\n",
    "Acc_KNN"
   ]
  },
  {
   "cell_type": "code",
   "execution_count": 44,
   "id": "51cb0011",
   "metadata": {},
   "outputs": [],
   "source": [
    "error_rate = []\n",
    "\n",
    "# Will take some time\n",
    "for i in range(1,40):\n",
    "    \n",
    "    knn = KNeighborsClassifier(n_neighbors=i)\n",
    "    knn.fit(X_train,y_train)\n",
    "    pred_i = knn.predict(X_test)\n",
    "    error_rate.append(np.mean(pred_i != y_test))"
   ]
  },
  {
   "cell_type": "code",
   "execution_count": 45,
   "id": "c628773c",
   "metadata": {},
   "outputs": [
    {
     "data": {
      "text/plain": [
       "Text(0, 0.5, 'Error Rate')"
      ]
     },
     "execution_count": 45,
     "metadata": {},
     "output_type": "execute_result"
    },
    {
     "data": {
      "image/png": "[encoded data removed]",
      "text/plain": [
       "<Figure size 720x432 with 1 Axes>"
      ]
     },
     "metadata": {
      "needs_background": "light"
     },
     "output_type": "display_data"
    }
   ],
   "source": [
    "plt.figure(figsize=(10,6))\n",
    "plt.plot(range(1,40),error_rate,color='blue', linestyle='dashed', marker='o',markerfacecolor='red', markersize=12)\n",
    "plt.title('Error Rate vs. K Value')\n",
    "plt.xlabel('K')\n",
    "plt.ylabel('Error Rate')"
   ]
  },
  {
   "cell_type": "code",
   "execution_count": 46,
   "id": "be608e53",
   "metadata": {},
   "outputs": [],
   "source": [
    "accuracy_rate = []\n",
    "\n",
    "# Will take some time\n",
    "for i in range(1,40):\n",
    "    \n",
    "    knn = KNeighborsClassifier(n_neighbors=i)\n",
    "    knn.fit(X_train,y_train)\n",
    "    pred_i = knn.predict(X_test)\n",
    "    accuracy_rate.append(np.mean(pred_i == y_test))"
   ]
  },
  {
   "cell_type": "code",
   "execution_count": 47,
   "id": "3603d0b1",
   "metadata": {},
   "outputs": [
    {
     "data": {
      "text/plain": [
       "Text(0, 0.5, 'Accuracy Rate')"
      ]
     },
     "execution_count": 47,
     "metadata": {},
     "output_type": "execute_result"
    },
    {
     "data": {
      "image/png": "[encoded data removed]",
      "text/plain": [
       "<Figure size 720x432 with 1 Axes>"
      ]
     },
     "metadata": {
      "needs_background": "light"
     },
     "output_type": "display_data"
    }
   ],
   "source": [
    "plt.figure(figsize=(10,6))\n",
    "plt.plot(range(1,40),accuracy_rate,color='blue', linestyle='dashed', marker='o',markerfacecolor='red', markersize=12)\n",
    "plt.title('Error Rate vs. K Value')\n",
    "plt.xlabel('K')\n",
    "plt.ylabel('Accuracy Rate')"
   ]
  },
  {
   "cell_type": "code",
   "execution_count": 48,
   "id": "f7c661ab",
   "metadata": {},
   "outputs": [
    {
     "data": {
      "text/plain": [
       "0.8064516129032258"
      ]
     },
     "execution_count": 48,
     "metadata": {},
     "output_type": "execute_result"
    }
   ],
   "source": [
    "KNN10 = KNeighborsClassifier(n_neighbors=3)\n",
    "KNN10.fit(X_train, y_train)\n",
    "y_pred10 = KNN10.predict(X_test)\n",
    "accuracy_score(y_test, y_pred10)"
   ]
  },
  {
   "cell_type": "code",
   "execution_count": 49,
   "id": "f2e8f21d",
   "metadata": {},
   "outputs": [],
   "source": [
    "from sklearn.tree import DecisionTreeClassifier"
   ]
  },
  {
   "cell_type": "code",
   "execution_count": 63,
   "id": "9e42d1c7",
   "metadata": {},
   "outputs": [
    {
     "data": {
      "text/plain": [
       "0.9032258064516129"
      ]
     },
     "execution_count": 63,
     "metadata": {},
     "output_type": "execute_result"
    }
   ],
   "source": [
    "DT = DecisionTreeClassifier()\n",
    "DT.fit(X_train, y_train)\n",
    "DT_pred = DT.predict(X_test)\n",
    "Acc_DT = accuracy_score(y_test, DT_pred)\n",
    "Acc_DT"
   ]
  },
  {
   "cell_type": "code",
   "execution_count": 51,
   "id": "858dec42",
   "metadata": {},
   "outputs": [],
   "source": [
    "from sklearn.ensemble import RandomForestClassifier"
   ]
  },
  {
   "cell_type": "code",
   "execution_count": 57,
   "id": "4f5b7bb8",
   "metadata": {},
   "outputs": [
    {
     "data": {
      "text/plain": [
       "0.8064516129032258"
      ]
     },
     "execution_count": 57,
     "metadata": {},
     "output_type": "execute_result"
    }
   ],
   "source": [
    "RF = RandomForestClassifier()\n",
    "RF.fit(X_train, y_train)\n",
    "RF_pred = RF.predict(X_test)\n",
    "Acc_RF = accuracy_score(y_test, RF_pred)\n",
    "Acc_RF"
   ]
  },
  {
   "cell_type": "code",
   "execution_count": 53,
   "id": "69431da4",
   "metadata": {},
   "outputs": [],
   "source": [
    "from xgboost import XGBClassifier"
   ]
  },
  {
   "cell_type": "code",
   "execution_count": 58,
   "id": "56cce59e",
   "metadata": {},
   "outputs": [
    {
     "data": {
      "text/plain": [
       "0.8387096774193549"
      ]
     },
     "execution_count": 58,
     "metadata": {},
     "output_type": "execute_result"
    }
   ],
   "source": [
    "xgb = XGBClassifier()\n",
    "xgb.fit(X_train, y_train)\n",
    "xgb_pred = xgb.predict(X_test)\n",
    "Acc_xgb = accuracy_score(y_test, xgb_pred)\n",
    "Acc_xgb"
   ]
  },
  {
   "cell_type": "code",
   "execution_count": 59,
   "id": "cf6b3c7b",
   "metadata": {},
   "outputs": [
    {
     "data": {
      "text/plain": [
       "0.8064516129032258"
      ]
     },
     "execution_count": 59,
     "metadata": {},
     "output_type": "execute_result"
    }
   ],
   "source": [
    "from sklearn.linear_model import LogisticRegression\n",
    "lr = LogisticRegression()\n",
    "lr.fit(X_train, y_train)\n",
    "lr_pred = lr.predict(X_test)\n",
    "Acc_lr = accuracy_score(y_test, lr_pred)\n",
    "Acc_lr"
   ]
  },
  {
   "cell_type": "code",
   "execution_count": 64,
   "id": "df0bbac3",
   "metadata": {},
   "outputs": [],
   "source": [
    "models = ['KNN', 'Decision Tree','Random Forest', 'XGBoost', 'Logistic Regression']\n",
    "values = [Acc_KNN, Acc_DT, Acc_RF, Acc_xgb, Acc_lr]"
   ]
  },
  {
   "cell_type": "code",
   "execution_count": 67,
   "id": "adb4fae7",
   "metadata": {},
   "outputs": [
    {
     "name": "stderr",
     "output_type": "stream",
     "text": [
      "C:\\Users\\DELL\\anaconda3\\lib\\site-packages\\seaborn\\_decorators.py:36: FutureWarning: Pass the following variables as keyword args: x, y. From version 0.12, the only valid positional argument will be `data`, and passing other arguments without an explicit keyword will result in an error or misinterpretation.\n",
      "  warnings.warn(\n"
     ]
    },
    {
     "data": {
      "text/plain": [
       "<AxesSubplot:>"
      ]
     },
     "execution_count": 67,
     "metadata": {},
     "output_type": "execute_result"
    },
    {
     "data": {
      "image/png": "[encoded data removed]",
      "text/plain": [
       "<Figure size 432x288 with 1 Axes>"
      ]
     },
     "metadata": {
      "needs_background": "light"
     },
     "output_type": "display_data"
    }
   ],
   "source": [
    "sns.barplot(values, models, orient='h')"
   ]
  },
  {
   "cell_type": "code",
   "execution_count": 69,
   "id": "77dab611",
   "metadata": {},
   "outputs": [
    {
     "data": {
      "text/html": [
       "<div>\n",
       "<style scoped>\n",
       "    .dataframe tbody tr th:only-of-type {\n",
       "        vertical-align: middle;\n",
       "    }\n",
       "\n",
       "    .dataframe tbody tr th {\n",
       "        vertical-align: top;\n",
       "    }\n",
       "\n",
       "    .dataframe thead th {\n",
       "        text-align: right;\n",
       "    }\n",
       "</style>\n",
       "<table border=\"1\" class=\"dataframe\">\n",
       "  <thead>\n",
       "    <tr style=\"text-align: right;\">\n",
       "      <th></th>\n",
       "      <th>0</th>\n",
       "      <th>1</th>\n",
       "    </tr>\n",
       "  </thead>\n",
       "  <tbody>\n",
       "    <tr>\n",
       "      <th>0</th>\n",
       "      <td>KNN</td>\n",
       "      <td>0.806452</td>\n",
       "    </tr>\n",
       "    <tr>\n",
       "      <th>1</th>\n",
       "      <td>Decision Tree</td>\n",
       "      <td>0.903226</td>\n",
       "    </tr>\n",
       "    <tr>\n",
       "      <th>2</th>\n",
       "      <td>Random Forest</td>\n",
       "      <td>0.806452</td>\n",
       "    </tr>\n",
       "    <tr>\n",
       "      <th>3</th>\n",
       "      <td>XGBoost</td>\n",
       "      <td>0.83871</td>\n",
       "    </tr>\n",
       "    <tr>\n",
       "      <th>4</th>\n",
       "      <td>Logistic Regression</td>\n",
       "      <td>0.806452</td>\n",
       "    </tr>\n",
       "  </tbody>\n",
       "</table>\n",
       "</div>"
      ],
      "text/plain": [
       "                     0         1\n",
       "0                  KNN  0.806452\n",
       "1        Decision Tree  0.903226\n",
       "2        Random Forest  0.806452\n",
       "3              XGBoost   0.83871\n",
       "4  Logistic Regression  0.806452"
      ]
     },
     "execution_count": 69,
     "metadata": {},
     "output_type": "execute_result"
    }
   ],
   "source": [
    "compare_df = pd.DataFrame(data=[models,values]).T\n",
    "compare_df"
   ]
  },
  {
   "cell_type": "code",
   "execution_count": 71,
   "id": "4fcb8fef",
   "metadata": {},
   "outputs": [
    {
     "data": {
      "text/html": [
       "<div>\n",
       "<style scoped>\n",
       "    .dataframe tbody tr th:only-of-type {\n",
       "        vertical-align: middle;\n",
       "    }\n",
       "\n",
       "    .dataframe tbody tr th {\n",
       "        vertical-align: top;\n",
       "    }\n",
       "\n",
       "    .dataframe thead th {\n",
       "        text-align: right;\n",
       "    }\n",
       "</style>\n",
       "<table border=\"1\" class=\"dataframe\">\n",
       "  <thead>\n",
       "    <tr style=\"text-align: right;\">\n",
       "      <th></th>\n",
       "      <th>Models</th>\n",
       "      <th>Accuarcy</th>\n",
       "    </tr>\n",
       "  </thead>\n",
       "  <tbody>\n",
       "    <tr>\n",
       "      <th>0</th>\n",
       "      <td>KNN</td>\n",
       "      <td>0.806452</td>\n",
       "    </tr>\n",
       "    <tr>\n",
       "      <th>1</th>\n",
       "      <td>Decision Tree</td>\n",
       "      <td>0.903226</td>\n",
       "    </tr>\n",
       "    <tr>\n",
       "      <th>2</th>\n",
       "      <td>Random Forest</td>\n",
       "      <td>0.806452</td>\n",
       "    </tr>\n",
       "    <tr>\n",
       "      <th>3</th>\n",
       "      <td>XGBoost</td>\n",
       "      <td>0.83871</td>\n",
       "    </tr>\n",
       "    <tr>\n",
       "      <th>4</th>\n",
       "      <td>Logistic Regression</td>\n",
       "      <td>0.806452</td>\n",
       "    </tr>\n",
       "  </tbody>\n",
       "</table>\n",
       "</div>"
      ],
      "text/plain": [
       "                Models  Accuarcy\n",
       "0                  KNN  0.806452\n",
       "1        Decision Tree  0.903226\n",
       "2        Random Forest  0.806452\n",
       "3              XGBoost   0.83871\n",
       "4  Logistic Regression  0.806452"
      ]
     },
     "execution_count": 71,
     "metadata": {},
     "output_type": "execute_result"
    }
   ],
   "source": [
    "compare_df.columns = ['Models', 'Accuarcy']\n",
    "compare_df"
   ]
  },
  {
   "cell_type": "code",
   "execution_count": 93,
   "id": "b5d8c534",
   "metadata": {},
   "outputs": [
    {
     "data": {
      "text/html": [
       "<div>\n",
       "<style scoped>\n",
       "    .dataframe tbody tr th:only-of-type {\n",
       "        vertical-align: middle;\n",
       "    }\n",
       "\n",
       "    .dataframe tbody tr th {\n",
       "        vertical-align: top;\n",
       "    }\n",
       "\n",
       "    .dataframe thead th {\n",
       "        text-align: right;\n",
       "    }\n",
       "</style>\n",
       "<table border=\"1\" class=\"dataframe\">\n",
       "  <thead>\n",
       "    <tr style=\"text-align: right;\">\n",
       "      <th></th>\n",
       "      <th>Models</th>\n",
       "      <th>Accuarcy</th>\n",
       "    </tr>\n",
       "  </thead>\n",
       "  <tbody>\n",
       "    <tr>\n",
       "      <th>0</th>\n",
       "      <td>Decision Tree</td>\n",
       "      <td>0.903226</td>\n",
       "    </tr>\n",
       "    <tr>\n",
       "      <th>1</th>\n",
       "      <td>XGBoost</td>\n",
       "      <td>0.83871</td>\n",
       "    </tr>\n",
       "    <tr>\n",
       "      <th>2</th>\n",
       "      <td>KNN</td>\n",
       "      <td>0.806452</td>\n",
       "    </tr>\n",
       "    <tr>\n",
       "      <th>3</th>\n",
       "      <td>Random Forest</td>\n",
       "      <td>0.806452</td>\n",
       "    </tr>\n",
       "    <tr>\n",
       "      <th>4</th>\n",
       "      <td>Logistic Regression</td>\n",
       "      <td>0.806452</td>\n",
       "    </tr>\n",
       "  </tbody>\n",
       "</table>\n",
       "</div>"
      ],
      "text/plain": [
       "                Models  Accuarcy\n",
       "0        Decision Tree  0.903226\n",
       "1              XGBoost   0.83871\n",
       "2                  KNN  0.806452\n",
       "3        Random Forest  0.806452\n",
       "4  Logistic Regression  0.806452"
      ]
     },
     "execution_count": 93,
     "metadata": {},
     "output_type": "execute_result"
    }
   ],
   "source": [
    "compare_df.sort_values('Accuarcy', ascending=False).reset_index(drop=True)"
   ]
  },
  {
   "cell_type": "code",
   "execution_count": null,
   "id": "62e03ed5",
   "metadata": {},
   "outputs": [],
   "source": []
  }
 ],
 "metadata": {
  "kernelspec": {
   "display_name": "Python 3 (ipykernel)",
   "language": "python",
   "name": "python3"
  },
  "language_info": {
   "codemirror_mode": {
    "name": "ipython",
    "version": 3
   },
   "file_extension": ".py",
   "mimetype": "text/x-python",
   "name": "python",
   "nbconvert_exporter": "python",
   "pygments_lexer": "ipython3",
   "version": "3.9.12"
  }
 },
 "nbformat": 4,
 "nbformat_minor": 5
}
